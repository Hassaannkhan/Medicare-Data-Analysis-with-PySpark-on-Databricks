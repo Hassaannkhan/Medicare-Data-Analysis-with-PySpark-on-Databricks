{
 "cells": [
  {
   "cell_type": "code",
   "execution_count": 0,
   "metadata": {
    "application/vnd.databricks.v1+cell": {
     "cellMetadata": {
      "byteLimit": 2048000,
      "rowLimit": 10000
     },
     "inputWidgets": {},
     "nuid": "bb7bb140-2041-46ab-a7a5-d470793d3432",
     "showTitle": false,
     "title": ""
    }
   },
   "outputs": [
    {
     "output_type": "display_data",
     "data": {
      "text/html": [
       "\n",
       "            <div>\n",
       "                <p><b>SparkSession - hive</b></p>\n",
       "                \n",
       "        <div>\n",
       "            <p><b>SparkContext</b></p>\n",
       "\n",
       "            <p><a href=\"/?o=734618180147006#setting/sparkui/1027-092933-tkh5avex/driver-4568181313420558532\">Spark UI</a></p>\n",
       "\n",
       "            <dl>\n",
       "              <dt>Version</dt>\n",
       "                <dd><code>v3.3.2</code></dd>\n",
       "              <dt>Master</dt>\n",
       "                <dd><code>local[8]</code></dd>\n",
       "              <dt>AppName</dt>\n",
       "                <dd><code>Databricks Shell</code></dd>\n",
       "            </dl>\n",
       "        </div>\n",
       "        \n",
       "            </div>\n",
       "        "
      ]
     },
     "metadata": {
      "application/vnd.databricks.v1+output": {
       "addedWidgets": {},
       "arguments": {},
       "data": "\n            <div>\n                <p><b>SparkSession - hive</b></p>\n                \n        <div>\n            <p><b>SparkContext</b></p>\n\n            <p><a href=\"/?o=734618180147006#setting/sparkui/1027-092933-tkh5avex/driver-4568181313420558532\">Spark UI</a></p>\n\n            <dl>\n              <dt>Version</dt>\n                <dd><code>v3.3.2</code></dd>\n              <dt>Master</dt>\n                <dd><code>local[8]</code></dd>\n              <dt>AppName</dt>\n                <dd><code>Databricks Shell</code></dd>\n            </dl>\n        </div>\n        \n            </div>\n        ",
       "datasetInfos": [],
       "metadata": {},
       "removedWidgets": [],
       "textData": null,
       "type": "htmlSandbox"
      }
     },
     "output_type": "display_data"
    }
   ],
   "source": [
    "from pyspark.sql import SparkSession\n",
    "from pyspark.sql.functions import *\n",
    "spark = SparkSession.builder.appName('Medicare').getOrCreate()\n",
    "spark"
   ]
  },
  {
   "cell_type": "code",
   "execution_count": 0,
   "metadata": {
    "application/vnd.databricks.v1+cell": {
     "cellMetadata": {
      "byteLimit": 2048000,
      "rowLimit": 10000
     },
     "inputWidgets": {},
     "nuid": "644a5675-b573-4036-bf2d-d54e06a5c3f8",
     "showTitle": false,
     "title": ""
    }
   },
   "outputs": [
    {
     "output_type": "stream",
     "name": "stdout",
     "output_type": "stream",
     "text": [
      "Out[17]: 28338"
     ]
    }
   ],
   "source": [
    "df1 = spark.read.parquet('/FileStore/tables/us_cities_dimension__1_-1.parquet')\n",
    "# display(df1.limit(3))\n",
    "df1.count()"
   ]
  },
  {
   "cell_type": "code",
   "execution_count": 0,
   "metadata": {
    "application/vnd.databricks.v1+cell": {
     "cellMetadata": {
      "byteLimit": 2048000,
      "rowLimit": 10000
     },
     "inputWidgets": {},
     "nuid": "49a2a90c-3e40-4212-9e0e-3a25b63e4541",
     "showTitle": false,
     "title": ""
    }
   },
   "outputs": [
    {
     "output_type": "stream",
     "name": "stdout",
     "output_type": "stream",
     "text": [
      "root\n |-- city: string (nullable = true)\n |-- state_id: string (nullable = true)\n |-- state_name: string (nullable = true)\n |-- county_name: string (nullable = true)\n |-- population: integer (nullable = true)\n |-- timezone: string (nullable = true)\n |-- zips: string (nullable = true)\n\n"
     ]
    }
   ],
   "source": [
    "# Drop extra col\n",
    "df_city = df1.select(\n",
    "                    upper(df1.city).alias('city'),\n",
    "                    df1.state_id,\n",
    "                    upper(df1.state_name).alias('state_name'),\n",
    "                    upper(df1.county_name).alias('county_name'),\n",
    "                    df1.population,\n",
    "                    df1.timezone,\n",
    "                    df1.zips\n",
    "                    )\n",
    "# display(df_city.limit(3))\n",
    "\n",
    "df_city.printSchema()"
   ]
  },
  {
   "cell_type": "code",
   "execution_count": 0,
   "metadata": {
    "application/vnd.databricks.v1+cell": {
     "cellMetadata": {
      "byteLimit": 2048000,
      "rowLimit": 10000
     },
     "inputWidgets": {},
     "nuid": "ec1d1496-89c8-4065-aec7-9ac12738e6c2",
     "showTitle": false,
     "title": ""
    }
   },
   "outputs": [
    {
     "output_type": "display_data",
     "data": {
      "text/html": [
       "<style scoped>\n",
       "  .table-result-container {\n",
       "    max-height: 300px;\n",
       "    overflow: auto;\n",
       "  }\n",
       "  table, th, td {\n",
       "    border: 1px solid black;\n",
       "    border-collapse: collapse;\n",
       "  }\n",
       "  th, td {\n",
       "    padding: 5px;\n",
       "  }\n",
       "  th {\n",
       "    text-align: left;\n",
       "  }\n",
       "</style><div class='table-result-container'><table class='table-result'><thead style='background-color: white'><tr><th>npi</th><th>nppes_provider_last_org_name</th><th>nppes_provider_first_name</th><th>nppes_provider_city</th><th>nppes_provider_state</th><th>specialty_description</th><th>description_flag</th><th>drug_name</th><th>generic_name</th><th>bene_count</th><th>total_claim_count</th><th>total_30_day_fill_count</th><th>total_day_supply</th><th>total_drug_cost</th><th>bene_count_ge65</th><th>bene_count_ge65_suppress_flag</th><th>total_claim_count_ge65</th><th>ge65_suppress_flag</th><th>total_30_day_fill_count_ge65</th><th>total_day_supply_ge65</th><th>total_drug_cost_ge65</th><th>years_of_exp</th></tr></thead><tbody><tr><td>2006000252</td><td>ENKESHAFI</td><td>ARDALAN</td><td>CUMBERLAND</td><td>MD</td><td>Internal Medicine</td><td>S</td><td>ATORVASTATIN CALCIUM</td><td>ATORVASTATIN CALCIUM</td><td>null</td><td>13</td><td>15.0</td><td>450</td><td>139.32</td><td>null</td><td>*</td><td>13</td><td>null</td><td>15.0</td><td>450</td><td>139.32</td><td>= 45.0</td></tr><tr><td>2006000252</td><td>ENKESHAFI</td><td>ARDALAN</td><td>CUMBERLAND</td><td>MD</td><td>Internal Medicine</td><td>S</td><td>CIPROFLOXACIN HCL</td><td>CIPROFLOXACIN HCL</td><td>null</td><td>11</td><td>11.0</td><td>96</td><td>80.99</td><td>null</td><td>*</td><td>null</td><td>*</td><td>null</td><td>null</td><td>null</td><td>= 43.0</td></tr><tr><td>2006000252</td><td>ENKESHAFI</td><td>ARDALAN</td><td>CUMBERLAND</td><td>MD</td><td>Internal Medicine</td><td>S</td><td>DOXYCYCLINE HYCLATE</td><td>DOXYCYCLINE HYCLATE</td><td>20</td><td>20</td><td>20.0</td><td>199</td><td>586.12</td><td>null</td><td>#</td><td>null</td><td>#</td><td>null</td><td>null</td><td>null</td><td>= 33.0</td></tr></tbody></table></div>"
      ]
     },
     "metadata": {
      "application/vnd.databricks.v1+output": {
       "addedWidgets": {},
       "aggData": [],
       "aggError": "",
       "aggOverflow": false,
       "aggSchema": [],
       "aggSeriesLimitReached": false,
       "aggType": "",
       "arguments": {},
       "columnCustomDisplayInfos": {},
       "data": [
        [
         2006000252,
         "ENKESHAFI",
         "ARDALAN",
         "CUMBERLAND",
         "MD",
         "Internal Medicine",
         "S",
         "ATORVASTATIN CALCIUM",
         "ATORVASTATIN CALCIUM",
         null,
         13,
         15.0,
         450,
         139.32,
         null,
         "*",
         13,
         null,
         15.0,
         450,
         139.32,
         "= 45.0"
        ],
        [
         2006000252,
         "ENKESHAFI",
         "ARDALAN",
         "CUMBERLAND",
         "MD",
         "Internal Medicine",
         "S",
         "CIPROFLOXACIN HCL",
         "CIPROFLOXACIN HCL",
         null,
         11,
         11.0,
         96,
         80.99,
         null,
         "*",
         null,
         "*",
         null,
         null,
         null,
         "= 43.0"
        ],
        [
         2006000252,
         "ENKESHAFI",
         "ARDALAN",
         "CUMBERLAND",
         "MD",
         "Internal Medicine",
         "S",
         "DOXYCYCLINE HYCLATE",
         "DOXYCYCLINE HYCLATE",
         20,
         20,
         20.0,
         199,
         586.12,
         null,
         "#",
         null,
         "#",
         null,
         null,
         null,
         "= 33.0"
        ]
       ],
       "datasetInfos": [],
       "dbfsResultPath": null,
       "isJsonSchema": true,
       "metadata": {},
       "overflow": false,
       "plotOptions": {
        "customPlotOptions": {},
        "displayType": "table",
        "pivotAggregation": null,
        "pivotColumns": null,
        "xColumns": null,
        "yColumns": null
       },
       "removedWidgets": [],
       "schema": [
        {
         "metadata": "{}",
         "name": "npi",
         "type": "\"integer\""
        },
        {
         "metadata": "{}",
         "name": "nppes_provider_last_org_name",
         "type": "\"string\""
        },
        {
         "metadata": "{}",
         "name": "nppes_provider_first_name",
         "type": "\"string\""
        },
        {
         "metadata": "{}",
         "name": "nppes_provider_city",
         "type": "\"string\""
        },
        {
         "metadata": "{}",
         "name": "nppes_provider_state",
         "type": "\"string\""
        },
        {
         "metadata": "{}",
         "name": "specialty_description",
         "type": "\"string\""
        },
        {
         "metadata": "{}",
         "name": "description_flag",
         "type": "\"string\""
        },
        {
         "metadata": "{}",
         "name": "drug_name",
         "type": "\"string\""
        },
        {
         "metadata": "{}",
         "name": "generic_name",
         "type": "\"string\""
        },
        {
         "metadata": "{}",
         "name": "bene_count",
         "type": "\"integer\""
        },
        {
         "metadata": "{}",
         "name": "total_claim_count",
         "type": "\"integer\""
        },
        {
         "metadata": "{}",
         "name": "total_30_day_fill_count",
         "type": "\"double\""
        },
        {
         "metadata": "{}",
         "name": "total_day_supply",
         "type": "\"integer\""
        },
        {
         "metadata": "{}",
         "name": "total_drug_cost",
         "type": "\"double\""
        },
        {
         "metadata": "{}",
         "name": "bene_count_ge65",
         "type": "\"integer\""
        },
        {
         "metadata": "{}",
         "name": "bene_count_ge65_suppress_flag",
         "type": "\"string\""
        },
        {
         "metadata": "{}",
         "name": "total_claim_count_ge65",
         "type": "\"integer\""
        },
        {
         "metadata": "{}",
         "name": "ge65_suppress_flag",
         "type": "\"string\""
        },
        {
         "metadata": "{}",
         "name": "total_30_day_fill_count_ge65",
         "type": "\"double\""
        },
        {
         "metadata": "{}",
         "name": "total_day_supply_ge65",
         "type": "\"integer\""
        },
        {
         "metadata": "{}",
         "name": "total_drug_cost_ge65",
         "type": "\"double\""
        },
        {
         "metadata": "{}",
         "name": "years_of_exp",
         "type": "\"string\""
        }
       ],
       "type": "table"
      }
     },
     "output_type": "display_data"
    },
    {
     "output_type": "stream",
     "name": "stdout",
     "output_type": "stream",
     "text": [
      "root\n |-- npi: integer (nullable = true)\n |-- nppes_provider_last_org_name: string (nullable = true)\n |-- nppes_provider_first_name: string (nullable = true)\n |-- nppes_provider_city: string (nullable = true)\n |-- nppes_provider_state: string (nullable = true)\n |-- specialty_description: string (nullable = true)\n |-- description_flag: string (nullable = true)\n |-- drug_name: string (nullable = true)\n |-- generic_name: string (nullable = true)\n |-- bene_count: integer (nullable = true)\n |-- total_claim_count: integer (nullable = true)\n |-- total_30_day_fill_count: double (nullable = true)\n |-- total_day_supply: integer (nullable = true)\n |-- total_drug_cost: double (nullable = true)\n |-- bene_count_ge65: integer (nullable = true)\n |-- bene_count_ge65_suppress_flag: string (nullable = true)\n |-- total_claim_count_ge65: integer (nullable = true)\n |-- ge65_suppress_flag: string (nullable = true)\n |-- total_30_day_fill_count_ge65: double (nullable = true)\n |-- total_day_supply_ge65: integer (nullable = true)\n |-- total_drug_cost_ge65: double (nullable = true)\n |-- years_of_exp: string (nullable = true)\n\nOut[19]: 1329329"
     ]
    }
   ],
   "source": [
    "df2 = spark.read.csv('/FileStore/tables/USA_Presc_Medicare_Data_12021.csv' , inferSchema=True , header=True)\n",
    "display(df2.limit(3))\n",
    "df2.printSchema()\n",
    "\n",
    "df2.count()"
   ]
  },
  {
   "cell_type": "code",
   "execution_count": 0,
   "metadata": {
    "application/vnd.databricks.v1+cell": {
     "cellMetadata": {
      "byteLimit": 2048000,
      "rowLimit": 10000
     },
     "inputWidgets": {},
     "nuid": "8ffac007-ac83-433a-98bd-3c914a8ae500",
     "showTitle": false,
     "title": ""
    }
   },
   "outputs": [
    {
     "output_type": "display_data",
     "data": {
      "text/html": [
       "<style scoped>\n",
       "  .table-result-container {\n",
       "    max-height: 300px;\n",
       "    overflow: auto;\n",
       "  }\n",
       "  table, th, td {\n",
       "    border: 1px solid black;\n",
       "    border-collapse: collapse;\n",
       "  }\n",
       "  th, td {\n",
       "    padding: 5px;\n",
       "  }\n",
       "  th {\n",
       "    text-align: left;\n",
       "  }\n",
       "</style><div class='table-result-container'><table class='table-result'><thead style='background-color: white'><tr><th>presc_id</th><th>presc_lname</th><th>presc_fname</th><th>presc_city</th><th>presc_state</th><th>presc_speclty</th><th>tx_cnt</th><th>drug_name</th><th>total_drug_cost</th><th>total_day_supply</th><th>years_of_exp</th></tr></thead><tbody><tr><td>2006000252</td><td>ENKESHAFI</td><td>ARDALAN</td><td>CUMBERLAND</td><td>MD</td><td>Internal Medicine</td><td>13</td><td>ATORVASTATIN CALCIUM</td><td>139.32</td><td>450</td><td>= 45.0</td></tr><tr><td>2006000252</td><td>ENKESHAFI</td><td>ARDALAN</td><td>CUMBERLAND</td><td>MD</td><td>Internal Medicine</td><td>11</td><td>CIPROFLOXACIN HCL</td><td>80.99</td><td>96</td><td>= 43.0</td></tr><tr><td>2006000252</td><td>ENKESHAFI</td><td>ARDALAN</td><td>CUMBERLAND</td><td>MD</td><td>Internal Medicine</td><td>20</td><td>DOXYCYCLINE HYCLATE</td><td>586.12</td><td>199</td><td>= 33.0</td></tr></tbody></table></div>"
      ]
     },
     "metadata": {
      "application/vnd.databricks.v1+output": {
       "addedWidgets": {},
       "aggData": [],
       "aggError": "",
       "aggOverflow": false,
       "aggSchema": [],
       "aggSeriesLimitReached": false,
       "aggType": "",
       "arguments": {},
       "columnCustomDisplayInfos": {},
       "data": [
        [
         2006000252,
         "ENKESHAFI",
         "ARDALAN",
         "CUMBERLAND",
         "MD",
         "Internal Medicine",
         13,
         "ATORVASTATIN CALCIUM",
         139.32,
         450,
         "= 45.0"
        ],
        [
         2006000252,
         "ENKESHAFI",
         "ARDALAN",
         "CUMBERLAND",
         "MD",
         "Internal Medicine",
         11,
         "CIPROFLOXACIN HCL",
         80.99,
         96,
         "= 43.0"
        ],
        [
         2006000252,
         "ENKESHAFI",
         "ARDALAN",
         "CUMBERLAND",
         "MD",
         "Internal Medicine",
         20,
         "DOXYCYCLINE HYCLATE",
         586.12,
         199,
         "= 33.0"
        ]
       ],
       "datasetInfos": [],
       "dbfsResultPath": null,
       "isJsonSchema": true,
       "metadata": {},
       "overflow": false,
       "plotOptions": {
        "customPlotOptions": {},
        "displayType": "table",
        "pivotAggregation": null,
        "pivotColumns": null,
        "xColumns": null,
        "yColumns": null
       },
       "removedWidgets": [],
       "schema": [
        {
         "metadata": "{}",
         "name": "presc_id",
         "type": "\"integer\""
        },
        {
         "metadata": "{}",
         "name": "presc_lname",
         "type": "\"string\""
        },
        {
         "metadata": "{}",
         "name": "presc_fname",
         "type": "\"string\""
        },
        {
         "metadata": "{}",
         "name": "presc_city",
         "type": "\"string\""
        },
        {
         "metadata": "{}",
         "name": "presc_state",
         "type": "\"string\""
        },
        {
         "metadata": "{}",
         "name": "presc_speclty",
         "type": "\"string\""
        },
        {
         "metadata": "{}",
         "name": "tx_cnt",
         "type": "\"integer\""
        },
        {
         "metadata": "{}",
         "name": "drug_name",
         "type": "\"string\""
        },
        {
         "metadata": "{}",
         "name": "total_drug_cost",
         "type": "\"double\""
        },
        {
         "metadata": "{}",
         "name": "total_day_supply",
         "type": "\"integer\""
        },
        {
         "metadata": "{}",
         "name": "years_of_exp",
         "type": "\"string\""
        }
       ],
       "type": "table"
      }
     },
     "output_type": "display_data"
    }
   ],
   "source": [
    "# drop extra col \n",
    "df_presc = df2.select(\n",
    "            df2.npi.alias('presc_id'),\n",
    "            df2.nppes_provider_last_org_name.alias('presc_lname'),\n",
    "            df2.nppes_provider_first_name.alias('presc_fname'),\n",
    "            df2.nppes_provider_city.alias('presc_city'),\n",
    "            df2.nppes_provider_state.alias('presc_state'),\n",
    "            df2.specialty_description.alias('presc_speclty'),\n",
    "             df2.total_claim_count.alias('tx_cnt'),\n",
    "            df2.drug_name,\n",
    "            df2.total_drug_cost,\n",
    "            df2.total_day_supply,\n",
    "            df2.years_of_exp           \n",
    "            )\n",
    "display(df_presc.limit(3))\n"
   ]
  },
  {
   "cell_type": "code",
   "execution_count": 0,
   "metadata": {
    "application/vnd.databricks.v1+cell": {
     "cellMetadata": {
      "byteLimit": 2048000,
      "rowLimit": 10000
     },
     "inputWidgets": {},
     "nuid": "7175b10b-6c9f-4f86-bf45-e664ae086078",
     "showTitle": false,
     "title": ""
    }
   },
   "outputs": [
    {
     "output_type": "display_data",
     "data": {
      "text/html": [
       "<style scoped>\n",
       "  .table-result-container {\n",
       "    max-height: 300px;\n",
       "    overflow: auto;\n",
       "  }\n",
       "  table, th, td {\n",
       "    border: 1px solid black;\n",
       "    border-collapse: collapse;\n",
       "  }\n",
       "  th, td {\n",
       "    padding: 5px;\n",
       "  }\n",
       "  th {\n",
       "    text-align: left;\n",
       "  }\n",
       "</style><div class='table-result-container'><table class='table-result'><thead style='background-color: white'><tr><th>presc_id</th><th>presc_city</th><th>presc_state</th><th>presc_speclty</th><th>tx_cnt</th><th>drug_name</th><th>total_drug_cost</th><th>total_day_supply</th><th>years_of_exp</th><th>name</th><th>country_name</th></tr></thead><tbody><tr><td>2006000252</td><td>CUMBERLAND</td><td>MD</td><td>Internal Medicine</td><td>13</td><td>ATORVASTATIN CALCIUM</td><td>139.32</td><td>450</td><td>= 45.0</td><td>ARDALAN ENKESHAFI</td><td>USA</td></tr><tr><td>2006000252</td><td>CUMBERLAND</td><td>MD</td><td>Internal Medicine</td><td>11</td><td>CIPROFLOXACIN HCL</td><td>80.99</td><td>96</td><td>= 43.0</td><td>ARDALAN ENKESHAFI</td><td>USA</td></tr><tr><td>2006000252</td><td>CUMBERLAND</td><td>MD</td><td>Internal Medicine</td><td>20</td><td>DOXYCYCLINE HYCLATE</td><td>586.12</td><td>199</td><td>= 33.0</td><td>ARDALAN ENKESHAFI</td><td>USA</td></tr></tbody></table></div>"
      ]
     },
     "metadata": {
      "application/vnd.databricks.v1+output": {
       "addedWidgets": {},
       "aggData": [],
       "aggError": "",
       "aggOverflow": false,
       "aggSchema": [],
       "aggSeriesLimitReached": false,
       "aggType": "",
       "arguments": {},
       "columnCustomDisplayInfos": {},
       "data": [
        [
         2006000252,
         "CUMBERLAND",
         "MD",
         "Internal Medicine",
         13,
         "ATORVASTATIN CALCIUM",
         139.32,
         450,
         "= 45.0",
         "ARDALAN ENKESHAFI",
         "USA"
        ],
        [
         2006000252,
         "CUMBERLAND",
         "MD",
         "Internal Medicine",
         11,
         "CIPROFLOXACIN HCL",
         80.99,
         96,
         "= 43.0",
         "ARDALAN ENKESHAFI",
         "USA"
        ],
        [
         2006000252,
         "CUMBERLAND",
         "MD",
         "Internal Medicine",
         20,
         "DOXYCYCLINE HYCLATE",
         586.12,
         199,
         "= 33.0",
         "ARDALAN ENKESHAFI",
         "USA"
        ]
       ],
       "datasetInfos": [],
       "dbfsResultPath": null,
       "isJsonSchema": true,
       "metadata": {},
       "overflow": false,
       "plotOptions": {
        "customPlotOptions": {},
        "displayType": "table",
        "pivotAggregation": null,
        "pivotColumns": null,
        "xColumns": null,
        "yColumns": null
       },
       "removedWidgets": [],
       "schema": [
        {
         "metadata": "{}",
         "name": "presc_id",
         "type": "\"integer\""
        },
        {
         "metadata": "{}",
         "name": "presc_city",
         "type": "\"string\""
        },
        {
         "metadata": "{}",
         "name": "presc_state",
         "type": "\"string\""
        },
        {
         "metadata": "{}",
         "name": "presc_speclty",
         "type": "\"string\""
        },
        {
         "metadata": "{}",
         "name": "tx_cnt",
         "type": "\"integer\""
        },
        {
         "metadata": "{}",
         "name": "drug_name",
         "type": "\"string\""
        },
        {
         "metadata": "{}",
         "name": "total_drug_cost",
         "type": "\"double\""
        },
        {
         "metadata": "{}",
         "name": "total_day_supply",
         "type": "\"integer\""
        },
        {
         "metadata": "{}",
         "name": "years_of_exp",
         "type": "\"string\""
        },
        {
         "metadata": "{}",
         "name": "name",
         "type": "\"string\""
        },
        {
         "metadata": "{}",
         "name": "country_name",
         "type": "\"string\""
        }
       ],
       "type": "table"
      }
     },
     "output_type": "display_data"
    }
   ],
   "source": [
    "# Concat fname , lname to name & Add new col 'country_name' \n",
    "from pyspark.sql.types import *\n",
    "\n",
    "df_presc  = df_presc.withColumn('name' , concat_ws(' ','presc_fname','presc_lname'))\n",
    "# \n",
    "df_presc = df_presc.withColumn('country_name' , lit('USA'))\n",
    "\n",
    "df_presc = df_presc.drop('presc_fname' , 'presc_lname')\n",
    "\n",
    "display(df_presc.limit(3))"
   ]
  },
  {
   "cell_type": "code",
   "execution_count": 0,
   "metadata": {
    "application/vnd.databricks.v1+cell": {
     "cellMetadata": {
      "byteLimit": 2048000,
      "rowLimit": 10000
     },
     "inputWidgets": {},
     "nuid": "ec3ab05c-7b02-4e2f-bc99-336f2fa7dfb6",
     "showTitle": false,
     "title": ""
    }
   },
   "outputs": [
    {
     "output_type": "display_data",
     "data": {
      "text/html": [
       "<style scoped>\n",
       "  .table-result-container {\n",
       "    max-height: 300px;\n",
       "    overflow: auto;\n",
       "  }\n",
       "  table, th, td {\n",
       "    border: 1px solid black;\n",
       "    border-collapse: collapse;\n",
       "  }\n",
       "  th, td {\n",
       "    padding: 5px;\n",
       "  }\n",
       "  th {\n",
       "    text-align: left;\n",
       "  }\n",
       "</style><div class='table-result-container'><table class='table-result'><thead style='background-color: white'><tr><th>presc_id</th><th>presc_city</th><th>presc_state</th><th>presc_speclty</th><th>tx_cnt</th><th>drug_name</th><th>total_drug_cost</th><th>total_day_supply</th><th>years_of_exp</th><th>name</th><th>country_name</th></tr></thead><tbody><tr><td>22</td><td>1</td><td>1</td><td>1</td><td>3</td><td>15</td><td>1</td><td>1</td><td>1</td><td>0</td><td>0</td></tr></tbody></table></div>"
      ]
     },
     "metadata": {
      "application/vnd.databricks.v1+output": {
       "addedWidgets": {},
       "aggData": [],
       "aggError": "",
       "aggOverflow": false,
       "aggSchema": [],
       "aggSeriesLimitReached": false,
       "aggType": "",
       "arguments": {},
       "columnCustomDisplayInfos": {},
       "data": [
        [
         22,
         1,
         1,
         1,
         3,
         15,
         1,
         1,
         1,
         0,
         0
        ]
       ],
       "datasetInfos": [],
       "dbfsResultPath": null,
       "isJsonSchema": true,
       "metadata": {},
       "overflow": false,
       "plotOptions": {
        "customPlotOptions": {},
        "displayType": "table",
        "pivotAggregation": null,
        "pivotColumns": null,
        "xColumns": null,
        "yColumns": null
       },
       "removedWidgets": [],
       "schema": [
        {
         "metadata": "{}",
         "name": "presc_id",
         "type": "\"long\""
        },
        {
         "metadata": "{}",
         "name": "presc_city",
         "type": "\"long\""
        },
        {
         "metadata": "{}",
         "name": "presc_state",
         "type": "\"long\""
        },
        {
         "metadata": "{}",
         "name": "presc_speclty",
         "type": "\"long\""
        },
        {
         "metadata": "{}",
         "name": "tx_cnt",
         "type": "\"long\""
        },
        {
         "metadata": "{}",
         "name": "drug_name",
         "type": "\"long\""
        },
        {
         "metadata": "{}",
         "name": "total_drug_cost",
         "type": "\"long\""
        },
        {
         "metadata": "{}",
         "name": "total_day_supply",
         "type": "\"long\""
        },
        {
         "metadata": "{}",
         "name": "years_of_exp",
         "type": "\"long\""
        },
        {
         "metadata": "{}",
         "name": "name",
         "type": "\"long\""
        },
        {
         "metadata": "{}",
         "name": "country_name",
         "type": "\"long\""
        }
       ],
       "type": "table"
      }
     },
     "output_type": "display_data"
    }
   ],
   "source": [
    "\n",
    "#  Handling Missing values\n",
    "def check_null(df):\n",
    "    nulls = []\n",
    "    for i in df.columns:\n",
    "        null_count = count(when(isnan(i) | col(i).isNull(),i)).alias(i)\n",
    "        nulls.append(null_count)\n",
    "    df_null = df.select(nulls)\n",
    "    display(df_null)\n",
    "\n",
    "check_null(df_presc)"
   ]
  },
  {
   "cell_type": "code",
   "execution_count": 0,
   "metadata": {
    "application/vnd.databricks.v1+cell": {
     "cellMetadata": {
      "byteLimit": 2048000,
      "rowLimit": 10000
     },
     "inputWidgets": {},
     "nuid": "5e6cd123-67b6-4820-adfe-28b016188fd8",
     "showTitle": false,
     "title": ""
    }
   },
   "outputs": [
    {
     "output_type": "display_data",
     "data": {
      "text/html": [
       "<style scoped>\n",
       "  .table-result-container {\n",
       "    max-height: 300px;\n",
       "    overflow: auto;\n",
       "  }\n",
       "  table, th, td {\n",
       "    border: 1px solid black;\n",
       "    border-collapse: collapse;\n",
       "  }\n",
       "  th, td {\n",
       "    padding: 5px;\n",
       "  }\n",
       "  th {\n",
       "    text-align: left;\n",
       "  }\n",
       "</style><div class='table-result-container'><table class='table-result'><thead style='background-color: white'><tr><th>presc_id</th><th>presc_city</th><th>presc_state</th><th>presc_speclty</th><th>tx_cnt</th><th>drug_name</th><th>total_drug_cost</th><th>total_day_supply</th><th>years_of_exp</th><th>name</th><th>country_name</th></tr></thead><tbody><tr><td>2006000252</td><td>CUMBERLAND</td><td>MD</td><td>Internal Medicine</td><td>13</td><td>ATORVASTATIN CALCIUM</td><td>139.32</td><td>450</td><td>= 45.0</td><td>ARDALAN ENKESHAFI</td><td>USA</td></tr><tr><td>2006000252</td><td>CUMBERLAND</td><td>MD</td><td>Internal Medicine</td><td>11</td><td>CIPROFLOXACIN HCL</td><td>80.99</td><td>96</td><td>= 43.0</td><td>ARDALAN ENKESHAFI</td><td>USA</td></tr><tr><td>2006000252</td><td>CUMBERLAND</td><td>MD</td><td>Internal Medicine</td><td>20</td><td>DOXYCYCLINE HYCLATE</td><td>586.12</td><td>199</td><td>= 33.0</td><td>ARDALAN ENKESHAFI</td><td>USA</td></tr></tbody></table></div>"
      ]
     },
     "metadata": {
      "application/vnd.databricks.v1+output": {
       "addedWidgets": {},
       "aggData": [],
       "aggError": "",
       "aggOverflow": false,
       "aggSchema": [],
       "aggSeriesLimitReached": false,
       "aggType": "",
       "arguments": {},
       "columnCustomDisplayInfos": {},
       "data": [
        [
         2006000252,
         "CUMBERLAND",
         "MD",
         "Internal Medicine",
         13,
         "ATORVASTATIN CALCIUM",
         139.32,
         450,
         "= 45.0",
         "ARDALAN ENKESHAFI",
         "USA"
        ],
        [
         2006000252,
         "CUMBERLAND",
         "MD",
         "Internal Medicine",
         11,
         "CIPROFLOXACIN HCL",
         80.99,
         96,
         "= 43.0",
         "ARDALAN ENKESHAFI",
         "USA"
        ],
        [
         2006000252,
         "CUMBERLAND",
         "MD",
         "Internal Medicine",
         20,
         "DOXYCYCLINE HYCLATE",
         586.12,
         199,
         "= 33.0",
         "ARDALAN ENKESHAFI",
         "USA"
        ]
       ],
       "datasetInfos": [],
       "dbfsResultPath": null,
       "isJsonSchema": true,
       "metadata": {},
       "overflow": false,
       "plotOptions": {
        "customPlotOptions": {},
        "displayType": "table",
        "pivotAggregation": null,
        "pivotColumns": null,
        "xColumns": null,
        "yColumns": null
       },
       "removedWidgets": [],
       "schema": [
        {
         "metadata": "{}",
         "name": "presc_id",
         "type": "\"integer\""
        },
        {
         "metadata": "{}",
         "name": "presc_city",
         "type": "\"string\""
        },
        {
         "metadata": "{}",
         "name": "presc_state",
         "type": "\"string\""
        },
        {
         "metadata": "{}",
         "name": "presc_speclty",
         "type": "\"string\""
        },
        {
         "metadata": "{}",
         "name": "tx_cnt",
         "type": "\"integer\""
        },
        {
         "metadata": "{}",
         "name": "drug_name",
         "type": "\"string\""
        },
        {
         "metadata": "{}",
         "name": "total_drug_cost",
         "type": "\"double\""
        },
        {
         "metadata": "{}",
         "name": "total_day_supply",
         "type": "\"integer\""
        },
        {
         "metadata": "{}",
         "name": "years_of_exp",
         "type": "\"string\""
        },
        {
         "metadata": "{}",
         "name": "name",
         "type": "\"string\""
        },
        {
         "metadata": "{}",
         "name": "country_name",
         "type": "\"string\""
        }
       ],
       "type": "table"
      }
     },
     "output_type": "display_data"
    }
   ],
   "source": [
    "# Remove NULL Values\n",
    "df_presc = df_presc.dropna(subset=['presc_id', 'drug_name'])\n",
    "display(df_presc.limit(3))"
   ]
  },
  {
   "cell_type": "code",
   "execution_count": 0,
   "metadata": {
    "application/vnd.databricks.v1+cell": {
     "cellMetadata": {
      "byteLimit": 2048000,
      "rowLimit": 10000
     },
     "inputWidgets": {},
     "nuid": "a84bffcb-97db-47d4-9393-156a46b526a2",
     "showTitle": false,
     "title": ""
    }
   },
   "outputs": [
    {
     "output_type": "display_data",
     "data": {
      "text/html": [
       "<style scoped>\n",
       "  .table-result-container {\n",
       "    max-height: 300px;\n",
       "    overflow: auto;\n",
       "  }\n",
       "  table, th, td {\n",
       "    border: 1px solid black;\n",
       "    border-collapse: collapse;\n",
       "  }\n",
       "  th, td {\n",
       "    padding: 5px;\n",
       "  }\n",
       "  th {\n",
       "    text-align: left;\n",
       "  }\n",
       "</style><div class='table-result-container'><table class='table-result'><thead style='background-color: white'><tr><th>presc_id</th><th>presc_city</th><th>presc_state</th><th>presc_speclty</th><th>tx_cnt</th><th>drug_name</th><th>total_drug_cost</th><th>total_day_supply</th><th>years_of_exp</th><th>name</th><th>country_name</th></tr></thead><tbody><tr><td>0</td><td>0</td><td>0</td><td>0</td><td>2</td><td>0</td><td>0</td><td>0</td><td>0</td><td>0</td><td>0</td></tr></tbody></table></div>"
      ]
     },
     "metadata": {
      "application/vnd.databricks.v1+output": {
       "addedWidgets": {},
       "aggData": [],
       "aggError": "",
       "aggOverflow": false,
       "aggSchema": [],
       "aggSeriesLimitReached": false,
       "aggType": "",
       "arguments": {},
       "columnCustomDisplayInfos": {},
       "data": [
        [
         0,
         0,
         0,
         0,
         2,
         0,
         0,
         0,
         0,
         0,
         0
        ]
       ],
       "datasetInfos": [],
       "dbfsResultPath": null,
       "isJsonSchema": true,
       "metadata": {},
       "overflow": false,
       "plotOptions": {
        "customPlotOptions": {},
        "displayType": "table",
        "pivotAggregation": null,
        "pivotColumns": null,
        "xColumns": null,
        "yColumns": null
       },
       "removedWidgets": [],
       "schema": [
        {
         "metadata": "{}",
         "name": "presc_id",
         "type": "\"long\""
        },
        {
         "metadata": "{}",
         "name": "presc_city",
         "type": "\"long\""
        },
        {
         "metadata": "{}",
         "name": "presc_state",
         "type": "\"long\""
        },
        {
         "metadata": "{}",
         "name": "presc_speclty",
         "type": "\"long\""
        },
        {
         "metadata": "{}",
         "name": "tx_cnt",
         "type": "\"long\""
        },
        {
         "metadata": "{}",
         "name": "drug_name",
         "type": "\"long\""
        },
        {
         "metadata": "{}",
         "name": "total_drug_cost",
         "type": "\"long\""
        },
        {
         "metadata": "{}",
         "name": "total_day_supply",
         "type": "\"long\""
        },
        {
         "metadata": "{}",
         "name": "years_of_exp",
         "type": "\"long\""
        },
        {
         "metadata": "{}",
         "name": "name",
         "type": "\"long\""
        },
        {
         "metadata": "{}",
         "name": "country_name",
         "type": "\"long\""
        }
       ],
       "type": "table"
      }
     },
     "output_type": "display_data"
    }
   ],
   "source": [
    "# Checking if NULL values exist \n",
    "check_null(df_presc)"
   ]
  },
  {
   "cell_type": "code",
   "execution_count": 0,
   "metadata": {
    "application/vnd.databricks.v1+cell": {
     "cellMetadata": {
      "byteLimit": 2048000,
      "rowLimit": 10000
     },
     "inputWidgets": {},
     "nuid": "b3b92cb1-6b1a-4396-9463-3c0fb1e8be94",
     "showTitle": false,
     "title": ""
    }
   },
   "outputs": [
    {
     "output_type": "display_data",
     "data": {
      "text/html": [
       "<style scoped>\n",
       "  .table-result-container {\n",
       "    max-height: 300px;\n",
       "    overflow: auto;\n",
       "  }\n",
       "  table, th, td {\n",
       "    border: 1px solid black;\n",
       "    border-collapse: collapse;\n",
       "  }\n",
       "  th, td {\n",
       "    padding: 5px;\n",
       "  }\n",
       "  th {\n",
       "    text-align: left;\n",
       "  }\n",
       "</style><div class='table-result-container'><table class='table-result'><thead style='background-color: white'><tr><th>presc_id</th><th>presc_city</th><th>presc_state</th><th>presc_speclty</th><th>tx_cnt</th><th>drug_name</th><th>total_drug_cost</th><th>total_day_supply</th><th>years_of_exp</th><th>name</th><th>country_name</th></tr></thead><tbody><tr><td>2006000252</td><td>CUMBERLAND</td><td>MD</td><td>Internal Medicine</td><td>13</td><td>ATORVASTATIN CALCIUM</td><td>139.32</td><td>450</td><td>45.0</td><td>ARDALAN ENKESHAFI</td><td>USA</td></tr><tr><td>2006000252</td><td>CUMBERLAND</td><td>MD</td><td>Internal Medicine</td><td>11</td><td>CIPROFLOXACIN HCL</td><td>80.99</td><td>96</td><td>43.0</td><td>ARDALAN ENKESHAFI</td><td>USA</td></tr><tr><td>2006000252</td><td>CUMBERLAND</td><td>MD</td><td>Internal Medicine</td><td>20</td><td>DOXYCYCLINE HYCLATE</td><td>586.12</td><td>199</td><td>33.0</td><td>ARDALAN ENKESHAFI</td><td>USA</td></tr></tbody></table></div>"
      ]
     },
     "metadata": {
      "application/vnd.databricks.v1+output": {
       "addedWidgets": {},
       "aggData": [],
       "aggError": "",
       "aggOverflow": false,
       "aggSchema": [],
       "aggSeriesLimitReached": false,
       "aggType": "",
       "arguments": {},
       "columnCustomDisplayInfos": {},
       "data": [
        [
         2006000252,
         "CUMBERLAND",
         "MD",
         "Internal Medicine",
         13,
         "ATORVASTATIN CALCIUM",
         139.32,
         450,
         45.0,
         "ARDALAN ENKESHAFI",
         "USA"
        ],
        [
         2006000252,
         "CUMBERLAND",
         "MD",
         "Internal Medicine",
         11,
         "CIPROFLOXACIN HCL",
         80.99,
         96,
         43.0,
         "ARDALAN ENKESHAFI",
         "USA"
        ],
        [
         2006000252,
         "CUMBERLAND",
         "MD",
         "Internal Medicine",
         20,
         "DOXYCYCLINE HYCLATE",
         586.12,
         199,
         33.0,
         "ARDALAN ENKESHAFI",
         "USA"
        ]
       ],
       "datasetInfos": [],
       "dbfsResultPath": null,
       "isJsonSchema": true,
       "metadata": {},
       "overflow": false,
       "plotOptions": {
        "customPlotOptions": {},
        "displayType": "table",
        "pivotAggregation": null,
        "pivotColumns": null,
        "xColumns": null,
        "yColumns": null
       },
       "removedWidgets": [],
       "schema": [
        {
         "metadata": "{}",
         "name": "presc_id",
         "type": "\"integer\""
        },
        {
         "metadata": "{}",
         "name": "presc_city",
         "type": "\"string\""
        },
        {
         "metadata": "{}",
         "name": "presc_state",
         "type": "\"string\""
        },
        {
         "metadata": "{}",
         "name": "presc_speclty",
         "type": "\"string\""
        },
        {
         "metadata": "{}",
         "name": "tx_cnt",
         "type": "\"integer\""
        },
        {
         "metadata": "{}",
         "name": "drug_name",
         "type": "\"string\""
        },
        {
         "metadata": "{}",
         "name": "total_drug_cost",
         "type": "\"double\""
        },
        {
         "metadata": "{}",
         "name": "total_day_supply",
         "type": "\"integer\""
        },
        {
         "metadata": "{}",
         "name": "years_of_exp",
         "type": "\"double\""
        },
        {
         "metadata": "{}",
         "name": "name",
         "type": "\"string\""
        },
        {
         "metadata": "{}",
         "name": "country_name",
         "type": "\"string\""
        }
       ],
       "type": "table"
      }
     },
     "output_type": "display_data"
    }
   ],
   "source": [
    "# Now, converting year_of_exp col from STR to INT\n",
    "\n",
    "df_presc = df_presc.withColumn('years_of_exp', regexp_replace(col('years_of_exp'), r\"^=\" , \"\" ))\n",
    "\n",
    "df_presc = df_presc.withColumn('years_of_exp' , col('years_of_exp').cast(DoubleType()))\n",
    "\n",
    "display(df_presc.limit(3))\n"
   ]
  },
  {
   "cell_type": "code",
   "execution_count": 0,
   "metadata": {
    "application/vnd.databricks.v1+cell": {
     "cellMetadata": {
      "byteLimit": 2048000,
      "rowLimit": 10000
     },
     "inputWidgets": {},
     "nuid": "9261dca7-01c8-4660-bac3-8a710239f264",
     "showTitle": false,
     "title": ""
    }
   },
   "outputs": [
    {
     "output_type": "stream",
     "name": "stdout",
     "output_type": "stream",
     "text": [
      "51.57326467512733\n"
     ]
    }
   ],
   "source": [
    "# Calculate mean for missing value of col 'tx_cnt'\n",
    "\n",
    "mean_tx = df_presc.select(mean(col('tx_cnt'))).collect()[0][0]\n",
    "print(mean_tx)\n",
    "\n",
    "df_presc = df_presc.fillna(mean_tx , 'tx_cnt')"
   ]
  },
  {
   "cell_type": "code",
   "execution_count": 0,
   "metadata": {
    "application/vnd.databricks.v1+cell": {
     "cellMetadata": {
      "byteLimit": 2048000,
      "rowLimit": 10000
     },
     "inputWidgets": {},
     "nuid": "b6b96bcb-fc7a-4108-9f13-960d7cc19d17",
     "showTitle": false,
     "title": ""
    }
   },
   "outputs": [
    {
     "output_type": "display_data",
     "data": {
      "text/html": [
       "<style scoped>\n",
       "  .table-result-container {\n",
       "    max-height: 300px;\n",
       "    overflow: auto;\n",
       "  }\n",
       "  table, th, td {\n",
       "    border: 1px solid black;\n",
       "    border-collapse: collapse;\n",
       "  }\n",
       "  th, td {\n",
       "    padding: 5px;\n",
       "  }\n",
       "  th {\n",
       "    text-align: left;\n",
       "  }\n",
       "</style><div class='table-result-container'><table class='table-result'><thead style='background-color: white'><tr><th>presc_id</th><th>presc_city</th><th>presc_state</th><th>presc_speclty</th><th>tx_cnt</th><th>drug_name</th><th>total_drug_cost</th><th>total_day_supply</th><th>years_of_exp</th><th>name</th><th>country_name</th></tr></thead><tbody><tr><td>0</td><td>0</td><td>0</td><td>0</td><td>0</td><td>0</td><td>0</td><td>0</td><td>0</td><td>0</td><td>0</td></tr></tbody></table></div>"
      ]
     },
     "metadata": {
      "application/vnd.databricks.v1+output": {
       "addedWidgets": {},
       "aggData": [],
       "aggError": "",
       "aggOverflow": false,
       "aggSchema": [],
       "aggSeriesLimitReached": false,
       "aggType": "",
       "arguments": {},
       "columnCustomDisplayInfos": {},
       "data": [
        [
         0,
         0,
         0,
         0,
         0,
         0,
         0,
         0,
         0,
         0,
         0
        ]
       ],
       "datasetInfos": [],
       "dbfsResultPath": null,
       "isJsonSchema": true,
       "metadata": {},
       "overflow": false,
       "plotOptions": {
        "customPlotOptions": {},
        "displayType": "table",
        "pivotAggregation": null,
        "pivotColumns": null,
        "xColumns": null,
        "yColumns": null
       },
       "removedWidgets": [],
       "schema": [
        {
         "metadata": "{}",
         "name": "presc_id",
         "type": "\"long\""
        },
        {
         "metadata": "{}",
         "name": "presc_city",
         "type": "\"long\""
        },
        {
         "metadata": "{}",
         "name": "presc_state",
         "type": "\"long\""
        },
        {
         "metadata": "{}",
         "name": "presc_speclty",
         "type": "\"long\""
        },
        {
         "metadata": "{}",
         "name": "tx_cnt",
         "type": "\"long\""
        },
        {
         "metadata": "{}",
         "name": "drug_name",
         "type": "\"long\""
        },
        {
         "metadata": "{}",
         "name": "total_drug_cost",
         "type": "\"long\""
        },
        {
         "metadata": "{}",
         "name": "total_day_supply",
         "type": "\"long\""
        },
        {
         "metadata": "{}",
         "name": "years_of_exp",
         "type": "\"long\""
        },
        {
         "metadata": "{}",
         "name": "name",
         "type": "\"long\""
        },
        {
         "metadata": "{}",
         "name": "country_name",
         "type": "\"long\""
        }
       ],
       "type": "table"
      }
     },
     "output_type": "display_data"
    }
   ],
   "source": [
    "check_null(df_presc)\n"
   ]
  },
  {
   "cell_type": "code",
   "execution_count": 0,
   "metadata": {
    "application/vnd.databricks.v1+cell": {
     "cellMetadata": {
      "byteLimit": 2048000,
      "rowLimit": 10000
     },
     "inputWidgets": {},
     "nuid": "9c8dd60c-1bcc-4e08-b5f5-f9e7917969a0",
     "showTitle": false,
     "title": ""
    }
   },
   "outputs": [],
   "source": [
    "#  Create udf(User Define Function) \n",
    "\n",
    "from pyspark.sql.functions import *\n",
    "from pyspark.sql.types import *\n",
    "\n",
    "@udf(returnType = IntegerType())\n",
    "\n",
    "def record_len(column):\n",
    "    splitcol = column.split(' ')\n",
    "    return len(splitcol)"
   ]
  },
  {
   "cell_type": "code",
   "execution_count": 0,
   "metadata": {
    "application/vnd.databricks.v1+cell": {
     "cellMetadata": {
      "byteLimit": 2048000,
      "rowLimit": 10000
     },
     "inputWidgets": {},
     "nuid": "1e62204b-44f6-471c-b12a-99dd6e3f904c",
     "showTitle": false,
     "title": ""
    }
   },
   "outputs": [
    {
     "output_type": "display_data",
     "data": {
      "text/html": [
       "<style scoped>\n",
       "  .table-result-container {\n",
       "    max-height: 300px;\n",
       "    overflow: auto;\n",
       "  }\n",
       "  table, th, td {\n",
       "    border: 1px solid black;\n",
       "    border-collapse: collapse;\n",
       "  }\n",
       "  th, td {\n",
       "    padding: 5px;\n",
       "  }\n",
       "  th {\n",
       "    text-align: left;\n",
       "  }\n",
       "</style><div class='table-result-container'><table class='table-result'><thead style='background-color: white'><tr><th>zip_count</th></tr></thead><tbody><tr><td>310</td></tr><tr><td>196</td></tr><tr><td>84</td></tr><tr><td>30</td></tr><tr><td>107</td></tr><tr><td>86</td></tr></tbody></table></div>"
      ]
     },
     "metadata": {
      "application/vnd.databricks.v1+output": {
       "addedWidgets": {},
       "aggData": [],
       "aggError": "",
       "aggOverflow": false,
       "aggSchema": [],
       "aggSeriesLimitReached": false,
       "aggType": "",
       "arguments": {},
       "columnCustomDisplayInfos": {},
       "data": [
        [
         310
        ],
        [
         196
        ],
        [
         84
        ],
        [
         30
        ],
        [
         107
        ],
        [
         86
        ]
       ],
       "datasetInfos": [],
       "dbfsResultPath": null,
       "isJsonSchema": true,
       "metadata": {},
       "overflow": false,
       "plotOptions": {
        "customPlotOptions": {},
        "displayType": "table",
        "pivotAggregation": null,
        "pivotColumns": null,
        "xColumns": null,
        "yColumns": null
       },
       "removedWidgets": [],
       "schema": [
        {
         "metadata": "{}",
         "name": "zip_count",
         "type": "\"integer\""
        }
       ],
       "type": "table"
      }
     },
     "output_type": "display_data"
    }
   ],
   "source": [
    "df_city_zip = df_city.withColumn('zip_count' , record_len('zips'))\n",
    "display(df_city_zip.select('zip_count').limit(6))"
   ]
  },
  {
   "cell_type": "code",
   "execution_count": 0,
   "metadata": {
    "application/vnd.databricks.v1+cell": {
     "cellMetadata": {
      "byteLimit": 2048000,
      "rowLimit": 10000
     },
     "inputWidgets": {},
     "nuid": "ed5baad2-de7d-428a-9218-43ce8d32bed7",
     "showTitle": false,
     "title": ""
    }
   },
   "outputs": [
    {
     "output_type": "display_data",
     "data": {
      "text/html": [
       "<style scoped>\n",
       "  .table-result-container {\n",
       "    max-height: 300px;\n",
       "    overflow: auto;\n",
       "  }\n",
       "  table, th, td {\n",
       "    border: 1px solid black;\n",
       "    border-collapse: collapse;\n",
       "  }\n",
       "  th, td {\n",
       "    padding: 5px;\n",
       "  }\n",
       "  th {\n",
       "    text-align: left;\n",
       "  }\n",
       "</style><div class='table-result-container'><table class='table-result'><thead style='background-color: white'><tr><th>presc_id</th><th>presc_city</th><th>presc_state</th><th>presc_speclty</th><th>tx_cnt</th><th>drug_name</th><th>total_drug_cost</th><th>total_day_supply</th><th>years_of_exp</th><th>name</th><th>country_name</th><th>city</th><th>state_id</th><th>state_name</th><th>county_name</th><th>population</th><th>timezone</th><th>zips</th><th>zip_count</th></tr></thead><tbody><tr><td>2006000252</td><td>CUMBERLAND</td><td>MD</td><td>Internal Medicine</td><td>13</td><td>ATORVASTATIN CALCIUM</td><td>139.32</td><td>450</td><td>45.0</td><td>ARDALAN ENKESHAFI</td><td>USA</td><td>CUMBERLAND</td><td>MD</td><td>MARYLAND</td><td>ALLEGANY</td><td>47980</td><td>America/New_York</td><td>21502 21501 21503 21504 21505</td><td>5</td></tr><tr><td>2006000252</td><td>CUMBERLAND</td><td>MD</td><td>Internal Medicine</td><td>11</td><td>CIPROFLOXACIN HCL</td><td>80.99</td><td>96</td><td>43.0</td><td>ARDALAN ENKESHAFI</td><td>USA</td><td>CUMBERLAND</td><td>MD</td><td>MARYLAND</td><td>ALLEGANY</td><td>47980</td><td>America/New_York</td><td>21502 21501 21503 21504 21505</td><td>5</td></tr><tr><td>2006000252</td><td>CUMBERLAND</td><td>MD</td><td>Internal Medicine</td><td>20</td><td>DOXYCYCLINE HYCLATE</td><td>586.12</td><td>199</td><td>33.0</td><td>ARDALAN ENKESHAFI</td><td>USA</td><td>CUMBERLAND</td><td>MD</td><td>MARYLAND</td><td>ALLEGANY</td><td>47980</td><td>America/New_York</td><td>21502 21501 21503 21504 21505</td><td>5</td></tr><tr><td>2006000252</td><td>CUMBERLAND</td><td>MD</td><td>Internal Medicine</td><td>17</td><td>ELIQUIS</td><td>6065.02</td><td>510</td><td>44.0</td><td>ARDALAN ENKESHAFI</td><td>USA</td><td>CUMBERLAND</td><td>MD</td><td>MARYLAND</td><td>ALLEGANY</td><td>47980</td><td>America/New_York</td><td>21502 21501 21503 21504 21505</td><td>5</td></tr><tr><td>2006000252</td><td>CUMBERLAND</td><td>MD</td><td>Internal Medicine</td><td>17</td><td>FUROSEMIDE</td><td>45.76</td><td>405</td><td>55.0</td><td>ARDALAN ENKESHAFI</td><td>USA</td><td>CUMBERLAND</td><td>MD</td><td>MARYLAND</td><td>ALLEGANY</td><td>47980</td><td>America/New_York</td><td>21502 21501 21503 21504 21505</td><td>5</td></tr><tr><td>2006000252</td><td>CUMBERLAND</td><td>MD</td><td>Internal Medicine</td><td>16</td><td>HYDRALAZINE HCL</td><td>169.48</td><td>420</td><td>36.0</td><td>ARDALAN ENKESHAFI</td><td>USA</td><td>CUMBERLAND</td><td>MD</td><td>MARYLAND</td><td>ALLEGANY</td><td>47980</td><td>America/New_York</td><td>21502 21501 21503 21504 21505</td><td>5</td></tr></tbody></table></div>"
      ]
     },
     "metadata": {
      "application/vnd.databricks.v1+output": {
       "addedWidgets": {},
       "aggData": [],
       "aggError": "",
       "aggOverflow": false,
       "aggSchema": [],
       "aggSeriesLimitReached": false,
       "aggType": "",
       "arguments": {},
       "columnCustomDisplayInfos": {},
       "data": [
        [
         2006000252,
         "CUMBERLAND",
         "MD",
         "Internal Medicine",
         13,
         "ATORVASTATIN CALCIUM",
         139.32,
         450,
         45.0,
         "ARDALAN ENKESHAFI",
         "USA",
         "CUMBERLAND",
         "MD",
         "MARYLAND",
         "ALLEGANY",
         47980,
         "America/New_York",
         "21502 21501 21503 21504 21505",
         5
        ],
        [
         2006000252,
         "CUMBERLAND",
         "MD",
         "Internal Medicine",
         11,
         "CIPROFLOXACIN HCL",
         80.99,
         96,
         43.0,
         "ARDALAN ENKESHAFI",
         "USA",
         "CUMBERLAND",
         "MD",
         "MARYLAND",
         "ALLEGANY",
         47980,
         "America/New_York",
         "21502 21501 21503 21504 21505",
         5
        ],
        [
         2006000252,
         "CUMBERLAND",
         "MD",
         "Internal Medicine",
         20,
         "DOXYCYCLINE HYCLATE",
         586.12,
         199,
         33.0,
         "ARDALAN ENKESHAFI",
         "USA",
         "CUMBERLAND",
         "MD",
         "MARYLAND",
         "ALLEGANY",
         47980,
         "America/New_York",
         "21502 21501 21503 21504 21505",
         5
        ],
        [
         2006000252,
         "CUMBERLAND",
         "MD",
         "Internal Medicine",
         17,
         "ELIQUIS",
         6065.02,
         510,
         44.0,
         "ARDALAN ENKESHAFI",
         "USA",
         "CUMBERLAND",
         "MD",
         "MARYLAND",
         "ALLEGANY",
         47980,
         "America/New_York",
         "21502 21501 21503 21504 21505",
         5
        ],
        [
         2006000252,
         "CUMBERLAND",
         "MD",
         "Internal Medicine",
         17,
         "FUROSEMIDE",
         45.76,
         405,
         55.0,
         "ARDALAN ENKESHAFI",
         "USA",
         "CUMBERLAND",
         "MD",
         "MARYLAND",
         "ALLEGANY",
         47980,
         "America/New_York",
         "21502 21501 21503 21504 21505",
         5
        ],
        [
         2006000252,
         "CUMBERLAND",
         "MD",
         "Internal Medicine",
         16,
         "HYDRALAZINE HCL",
         169.48,
         420,
         36.0,
         "ARDALAN ENKESHAFI",
         "USA",
         "CUMBERLAND",
         "MD",
         "MARYLAND",
         "ALLEGANY",
         47980,
         "America/New_York",
         "21502 21501 21503 21504 21505",
         5
        ]
       ],
       "datasetInfos": [],
       "dbfsResultPath": null,
       "isJsonSchema": true,
       "metadata": {},
       "overflow": false,
       "plotOptions": {
        "customPlotOptions": {},
        "displayType": "table",
        "pivotAggregation": null,
        "pivotColumns": null,
        "xColumns": null,
        "yColumns": null
       },
       "removedWidgets": [],
       "schema": [
        {
         "metadata": "{}",
         "name": "presc_id",
         "type": "\"integer\""
        },
        {
         "metadata": "{}",
         "name": "presc_city",
         "type": "\"string\""
        },
        {
         "metadata": "{}",
         "name": "presc_state",
         "type": "\"string\""
        },
        {
         "metadata": "{}",
         "name": "presc_speclty",
         "type": "\"string\""
        },
        {
         "metadata": "{}",
         "name": "tx_cnt",
         "type": "\"integer\""
        },
        {
         "metadata": "{}",
         "name": "drug_name",
         "type": "\"string\""
        },
        {
         "metadata": "{}",
         "name": "total_drug_cost",
         "type": "\"double\""
        },
        {
         "metadata": "{}",
         "name": "total_day_supply",
         "type": "\"integer\""
        },
        {
         "metadata": "{}",
         "name": "years_of_exp",
         "type": "\"double\""
        },
        {
         "metadata": "{}",
         "name": "name",
         "type": "\"string\""
        },
        {
         "metadata": "{}",
         "name": "country_name",
         "type": "\"string\""
        },
        {
         "metadata": "{}",
         "name": "city",
         "type": "\"string\""
        },
        {
         "metadata": "{}",
         "name": "state_id",
         "type": "\"string\""
        },
        {
         "metadata": "{}",
         "name": "state_name",
         "type": "\"string\""
        },
        {
         "metadata": "{}",
         "name": "county_name",
         "type": "\"string\""
        },
        {
         "metadata": "{}",
         "name": "population",
         "type": "\"integer\""
        },
        {
         "metadata": "{}",
         "name": "timezone",
         "type": "\"string\""
        },
        {
         "metadata": "{}",
         "name": "zips",
         "type": "\"string\""
        },
        {
         "metadata": "{}",
         "name": "zip_count",
         "type": "\"integer\""
        }
       ],
       "type": "table"
      }
     },
     "output_type": "display_data"
    }
   ],
   "source": [
    "# Joining two dataset \n",
    "df_join = df_presc.join(\n",
    "    df_city_zip , \n",
    "    (df_presc.presc_city == df_city_zip.city)&(df_presc.presc_state == df_city_zip.state_id) ,\n",
    "    how='inner'\n",
    "    )\n",
    "display(df_join.limit(6))       "
   ]
  },
  {
   "cell_type": "code",
   "execution_count": 0,
   "metadata": {
    "application/vnd.databricks.v1+cell": {
     "cellMetadata": {
      "byteLimit": 2048000,
      "rowLimit": 10000
     },
     "inputWidgets": {},
     "nuid": "7a8db36e-69a3-4b2e-871a-b42cc8a42016",
     "showTitle": false,
     "title": ""
    }
   },
   "outputs": [],
   "source": []
  }
 ],
 "metadata": {
  "application/vnd.databricks.v1+notebook": {
   "dashboards": [],
   "environmentMetadata": null,
   "language": "python",
   "notebookMetadata": {
    "pythonIndentUnit": 4
   },
   "notebookName": "Medicare_Dataset",
   "widgets": {}
  }
 },
 "nbformat": 4,
 "nbformat_minor": 0
}
