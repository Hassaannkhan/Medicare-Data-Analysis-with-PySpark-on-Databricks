{
 "cells": [
  {
   "cell_type": "code",
   "execution_count": 0,
   "metadata": {
    "application/vnd.databricks.v1+cell": {
     "cellMetadata": {
      "byteLimit": 2048000,
      "rowLimit": 10000
     },
     "inputWidgets": {},
     "nuid": "bb7bb140-2041-46ab-a7a5-d470793d3432",
     "showTitle": false,
     "title": ""
    }
   },
   "outputs": [
    {
     "output_type": "display_data",
     "data": {
      "text/html": [
       "\n",
       "            <div>\n",
       "                <p><b>SparkSession - hive</b></p>\n",
       "                \n",
       "        <div>\n",
       "            <p><b>SparkContext</b></p>\n",
       "\n",
       "            <p><a href=\"/?o=734618180147006#setting/sparkui/1027-092933-tkh5avex/driver-4568181313420558532\">Spark UI</a></p>\n",
       "\n",
       "            <dl>\n",
       "              <dt>Version</dt>\n",
       "                <dd><code>v3.3.2</code></dd>\n",
       "              <dt>Master</dt>\n",
       "                <dd><code>local[8]</code></dd>\n",
       "              <dt>AppName</dt>\n",
       "                <dd><code>Databricks Shell</code></dd>\n",
       "            </dl>\n",
       "        </div>\n",
       "        \n",
       "            </div>\n",
       "        "
      ]
     },
     "metadata": {
      "application/vnd.databricks.v1+output": {
       "addedWidgets": {},
       "arguments": {},
       "data": "\n            <div>\n                <p><b>SparkSession - hive</b></p>\n                \n        <div>\n            <p><b>SparkContext</b></p>\n\n            <p><a href=\"/?o=734618180147006#setting/sparkui/1027-092933-tkh5avex/driver-4568181313420558532\">Spark UI</a></p>\n\n            <dl>\n              <dt>Version</dt>\n                <dd><code>v3.3.2</code></dd>\n              <dt>Master</dt>\n                <dd><code>local[8]</code></dd>\n              <dt>AppName</dt>\n                <dd><code>Databricks Shell</code></dd>\n            </dl>\n        </div>\n        \n            </div>\n        ",
       "datasetInfos": [],
       "metadata": {},
       "removedWidgets": [],
       "textData": null,
       "type": "htmlSandbox"
      }
     },
     "output_type": "display_data"
    }
   ],
   "source": [
    "from pyspark.sql import SparkSession\n",
    "from pyspark.sql.functions import *\n",
    "spark = SparkSession.builder.appName('Medicare').getOrCreate()\n",
    "spark"
   ]
  },
  {
   "cell_type": "code",
   "execution_count": 0,
   "metadata": {
    "application/vnd.databricks.v1+cell": {
     "cellMetadata": {
      "byteLimit": 2048000,
      "rowLimit": 10000
     },
     "inputWidgets": {},
     "nuid": "644a5675-b573-4036-bf2d-d54e06a5c3f8",
     "showTitle": false,
     "title": ""
    }
   },
   "outputs": [
    {
     "output_type": "display_data",
     "data": {
      "text/html": [
       "<style scoped>\n",
       "  .table-result-container {\n",
       "    max-height: 300px;\n",
       "    overflow: auto;\n",
       "  }\n",
       "  table, th, td {\n",
       "    border: 1px solid black;\n",
       "    border-collapse: collapse;\n",
       "  }\n",
       "  th, td {\n",
       "    padding: 5px;\n",
       "  }\n",
       "  th {\n",
       "    text-align: left;\n",
       "  }\n",
       "</style><div class='table-result-container'><table class='table-result'><thead style='background-color: white'><tr><th>city</th><th>city_ascii</th><th>state_id</th><th>state_name</th><th>county_fips</th><th>county_name</th><th>lat</th><th>lng</th><th>population</th><th>density</th><th>timezone</th><th>zips</th></tr></thead><tbody><tr><td>New York</td><td>New York</td><td>NY</td><td>New York</td><td>36061</td><td>New York</td><td>40.6943</td><td>-73.9249</td><td>18713220</td><td>10715</td><td>America/New_York</td><td>11229 11226 11225 11224 11222 11221 11220 11385 10169 10168 10167 10165 10162 10282 10280 10040 10044 11109 11104 11105 11379 11378 11377 11697 11694 11692 11693 11691 10271 10279 10278 10075 10302 10301 10452 11451 10475 10474 10471 10470 10473 10472 11228 11223 10103 11368 11369 11366 11367 11364 11365 11362 11363 11360 11361 10028 10029 10026 10027 10024 10025 10022 10023 10020 10021 11212 11213 11210 11211 11216 11217 11214 11215 11218 11219 10152 10153 10154 10307 10306 10305 11429 10310 10311 10312 10314 11432 11433 11430 11436 11434 11435 10453 10451 10457 10456 10455 10454 10459 10458 10128 10004 10005 10006 10007 10001 10002 10003 10009 11238 11239 11230 11231 11232 11233 11234 11235 11236 11237 11375 11374 11371 11370 11373 11372 10170 10171 10172 10173 10174 10177 11351 10039 10038 10035 10034 10037 10036 10031 10030 10033 10032 11201 11208 11203 11205 11204 11207 11206 11209 11411 11412 11413 11414 11415 11416 11417 11418 11419 11101 11102 11103 11106 11001 11005 11004 10065 10069 10199 10309 10308 10304 10303 11428 11421 11420 11423 11422 11425 11424 11427 11426 10466 10467 10464 10465 10462 10463 10460 10461 10468 10469 10119 10115 10112 10110 10111 11359 11358 11357 11356 11355 11354 10019 10018 10013 10012 10011 10010 10017 10016 10014 10008 10041 10043 10055 10060 10080 10081 10087 10090 10101 10102 10104 10105 10106 10107 10108 10109 10113 10114 10116 10117 10118 10120 10121 10122 10123 10124 10125 10126 10129 10130 10131 10132 10133 10138 10150 10151 10155 10156 10157 10158 10159 10160 10163 10164 10166 10175 10176 10178 10179 10185 10203 10211 10212 10213 10242 10249 10256 10258 10259 10260 10261 10265 10268 10269 10270 10272 10273 10274 10275 10276 10277 10281 10285 10286 10313 11120 11202 11241 11242 11243 11245 11247 11249 11251 11252 11256 11352 11380 11381 11386 11405 11431 11437 11439 11499 11690 11695</td></tr><tr><td>Los Angeles</td><td>Los Angeles</td><td>CA</td><td>California</td><td>6037</td><td>Los Angeles</td><td>34.1139</td><td>-118.4068</td><td>12750807</td><td>3276</td><td>America/Los_Angeles</td><td>90291 90293 90292 91316 91311 90037 90031 90008 90004 90005 90006 90007 90001 90002 90003 90710 90089 91344 91345 91340 91342 91343 90035 90034 90036 90033 90032 90039 90247 90248 91436 91371 91605 91604 91607 91601 91602 90402 90068 90069 90062 90063 90061 90066 90067 90064 90065 91326 91324 91325 90013 90012 90011 90010 90017 90016 90015 90014 90019 90090 90095 90094 91042 91040 91411 91352 91356 90041 90042 90043 90044 90045 90046 90047 90048 90049 90018 91423 90210 91303 91304 91306 91307 90079 90071 90077 90059 91608 91606 91331 91330 91335 90026 90027 90024 90025 90023 90020 90021 90028 90029 90272 90732 90731 90230 91406 91405 91403 91402 91401 91367 91364 90038 90057 90058 90744 90501 90502 90009 90030 90050 90051 90053 90054 90055 90060 90070 90072 90074 90075 90076 90078 90080 90081 90082 90083 90084 90086 90087 90088 90093 90099 90134 90189 90213 90294 90295 90296 90733 90734 90748 91041 91043 91305 91308 91309 91313 91327 91328 91329 91333 91334 91337 91346 91353 91357 91365 91392 91393 91394 91395 91396 91404 91407 91408 91409 91410 91412 91413 91416 91426 91470 91482 91495 91496 91499 91603 91609 91610 91611 91612 91614 91615 91616 91617 91618</td></tr><tr><td>Chicago</td><td>Chicago</td><td>IL</td><td>Illinois</td><td>17031</td><td>Cook</td><td>41.8373</td><td>-87.6862</td><td>8604203</td><td>4574</td><td>America/Chicago</td><td>60018 60649 60641 60640 60643 60642 60645 60644 60647 60646 60616 60617 60614 60615 60612 60613 60610 60611 60618 60619 60827 60638 60639 60634 60636 60637 60630 60631 60632 60633 60605 60604 60607 60606 60601 60603 60602 60609 60608 60106 60661 60660 60659 60652 60653 60651 60656 60657 60654 60655 60623 60622 60621 60620 60626 60625 60624 60629 60628 60707 60499 60664 60666 60668 60669 60670 60673 60674 60675 60677 60678 60680 60681 60684 60685 60686 60687 60688 60689 60690 60694 60695 60696 60699</td></tr></tbody></table></div>"
      ]
     },
     "metadata": {
      "application/vnd.databricks.v1+output": {
       "addedWidgets": {},
       "aggData": [],
       "aggError": "",
       "aggOverflow": false,
       "aggSchema": [],
       "aggSeriesLimitReached": false,
       "aggType": "",
       "arguments": {},
       "columnCustomDisplayInfos": {},
       "data": [
        [
         "New York",
         "New York",
         "NY",
         "New York",
         36061,
         "New York",
         40.6943,
         -73.9249,
         18713220,
         10715,
         "America/New_York",
         "11229 11226 11225 11224 11222 11221 11220 11385 10169 10168 10167 10165 10162 10282 10280 10040 10044 11109 11104 11105 11379 11378 11377 11697 11694 11692 11693 11691 10271 10279 10278 10075 10302 10301 10452 11451 10475 10474 10471 10470 10473 10472 11228 11223 10103 11368 11369 11366 11367 11364 11365 11362 11363 11360 11361 10028 10029 10026 10027 10024 10025 10022 10023 10020 10021 11212 11213 11210 11211 11216 11217 11214 11215 11218 11219 10152 10153 10154 10307 10306 10305 11429 10310 10311 10312 10314 11432 11433 11430 11436 11434 11435 10453 10451 10457 10456 10455 10454 10459 10458 10128 10004 10005 10006 10007 10001 10002 10003 10009 11238 11239 11230 11231 11232 11233 11234 11235 11236 11237 11375 11374 11371 11370 11373 11372 10170 10171 10172 10173 10174 10177 11351 10039 10038 10035 10034 10037 10036 10031 10030 10033 10032 11201 11208 11203 11205 11204 11207 11206 11209 11411 11412 11413 11414 11415 11416 11417 11418 11419 11101 11102 11103 11106 11001 11005 11004 10065 10069 10199 10309 10308 10304 10303 11428 11421 11420 11423 11422 11425 11424 11427 11426 10466 10467 10464 10465 10462 10463 10460 10461 10468 10469 10119 10115 10112 10110 10111 11359 11358 11357 11356 11355 11354 10019 10018 10013 10012 10011 10010 10017 10016 10014 10008 10041 10043 10055 10060 10080 10081 10087 10090 10101 10102 10104 10105 10106 10107 10108 10109 10113 10114 10116 10117 10118 10120 10121 10122 10123 10124 10125 10126 10129 10130 10131 10132 10133 10138 10150 10151 10155 10156 10157 10158 10159 10160 10163 10164 10166 10175 10176 10178 10179 10185 10203 10211 10212 10213 10242 10249 10256 10258 10259 10260 10261 10265 10268 10269 10270 10272 10273 10274 10275 10276 10277 10281 10285 10286 10313 11120 11202 11241 11242 11243 11245 11247 11249 11251 11252 11256 11352 11380 11381 11386 11405 11431 11437 11439 11499 11690 11695"
        ],
        [
         "Los Angeles",
         "Los Angeles",
         "CA",
         "California",
         6037,
         "Los Angeles",
         34.1139,
         -118.4068,
         12750807,
         3276,
         "America/Los_Angeles",
         "90291 90293 90292 91316 91311 90037 90031 90008 90004 90005 90006 90007 90001 90002 90003 90710 90089 91344 91345 91340 91342 91343 90035 90034 90036 90033 90032 90039 90247 90248 91436 91371 91605 91604 91607 91601 91602 90402 90068 90069 90062 90063 90061 90066 90067 90064 90065 91326 91324 91325 90013 90012 90011 90010 90017 90016 90015 90014 90019 90090 90095 90094 91042 91040 91411 91352 91356 90041 90042 90043 90044 90045 90046 90047 90048 90049 90018 91423 90210 91303 91304 91306 91307 90079 90071 90077 90059 91608 91606 91331 91330 91335 90026 90027 90024 90025 90023 90020 90021 90028 90029 90272 90732 90731 90230 91406 91405 91403 91402 91401 91367 91364 90038 90057 90058 90744 90501 90502 90009 90030 90050 90051 90053 90054 90055 90060 90070 90072 90074 90075 90076 90078 90080 90081 90082 90083 90084 90086 90087 90088 90093 90099 90134 90189 90213 90294 90295 90296 90733 90734 90748 91041 91043 91305 91308 91309 91313 91327 91328 91329 91333 91334 91337 91346 91353 91357 91365 91392 91393 91394 91395 91396 91404 91407 91408 91409 91410 91412 91413 91416 91426 91470 91482 91495 91496 91499 91603 91609 91610 91611 91612 91614 91615 91616 91617 91618"
        ],
        [
         "Chicago",
         "Chicago",
         "IL",
         "Illinois",
         17031,
         "Cook",
         41.8373,
         -87.6862,
         8604203,
         4574,
         "America/Chicago",
         "60018 60649 60641 60640 60643 60642 60645 60644 60647 60646 60616 60617 60614 60615 60612 60613 60610 60611 60618 60619 60827 60638 60639 60634 60636 60637 60630 60631 60632 60633 60605 60604 60607 60606 60601 60603 60602 60609 60608 60106 60661 60660 60659 60652 60653 60651 60656 60657 60654 60655 60623 60622 60621 60620 60626 60625 60624 60629 60628 60707 60499 60664 60666 60668 60669 60670 60673 60674 60675 60677 60678 60680 60681 60684 60685 60686 60687 60688 60689 60690 60694 60695 60696 60699"
        ]
       ],
       "datasetInfos": [],
       "dbfsResultPath": null,
       "isJsonSchema": true,
       "metadata": {},
       "overflow": false,
       "plotOptions": {
        "customPlotOptions": {},
        "displayType": "table",
        "pivotAggregation": null,
        "pivotColumns": null,
        "xColumns": null,
        "yColumns": null
       },
       "removedWidgets": [],
       "schema": [
        {
         "metadata": "{}",
         "name": "city",
         "type": "\"string\""
        },
        {
         "metadata": "{}",
         "name": "city_ascii",
         "type": "\"string\""
        },
        {
         "metadata": "{}",
         "name": "state_id",
         "type": "\"string\""
        },
        {
         "metadata": "{}",
         "name": "state_name",
         "type": "\"string\""
        },
        {
         "metadata": "{}",
         "name": "county_fips",
         "type": "\"integer\""
        },
        {
         "metadata": "{}",
         "name": "county_name",
         "type": "\"string\""
        },
        {
         "metadata": "{}",
         "name": "lat",
         "type": "\"double\""
        },
        {
         "metadata": "{}",
         "name": "lng",
         "type": "\"double\""
        },
        {
         "metadata": "{}",
         "name": "population",
         "type": "\"integer\""
        },
        {
         "metadata": "{}",
         "name": "density",
         "type": "\"integer\""
        },
        {
         "metadata": "{}",
         "name": "timezone",
         "type": "\"string\""
        },
        {
         "metadata": "{}",
         "name": "zips",
         "type": "\"string\""
        }
       ],
       "type": "table"
      }
     },
     "output_type": "display_data"
    },
    {
     "output_type": "stream",
     "name": "stdout",
     "output_type": "stream",
     "text": [
      "Out[2]: 28338"
     ]
    }
   ],
   "source": [
    "df1 = spark.read.parquet('/FileStore/tables/us_cities_dimension__1_-1.parquet')\n",
    "display(df1.limit(3))\n",
    "df1.count()"
   ]
  },
  {
   "cell_type": "code",
   "execution_count": 0,
   "metadata": {
    "application/vnd.databricks.v1+cell": {
     "cellMetadata": {
      "byteLimit": 2048000,
      "rowLimit": 10000
     },
     "inputWidgets": {},
     "nuid": "49a2a90c-3e40-4212-9e0e-3a25b63e4541",
     "showTitle": false,
     "title": ""
    }
   },
   "outputs": [
    {
     "output_type": "display_data",
     "data": {
      "text/html": [
       "<style scoped>\n",
       "  .table-result-container {\n",
       "    max-height: 300px;\n",
       "    overflow: auto;\n",
       "  }\n",
       "  table, th, td {\n",
       "    border: 1px solid black;\n",
       "    border-collapse: collapse;\n",
       "  }\n",
       "  th, td {\n",
       "    padding: 5px;\n",
       "  }\n",
       "  th {\n",
       "    text-align: left;\n",
       "  }\n",
       "</style><div class='table-result-container'><table class='table-result'><thead style='background-color: white'><tr><th>city</th><th>state_id</th><th>state_name</th><th>county_name</th><th>population</th><th>timezone</th><th>zips</th></tr></thead><tbody><tr><td>NEW YORK</td><td>NY</td><td>NEW YORK</td><td>NEW YORK</td><td>18713220</td><td>America/New_York</td><td>11229 11226 11225 11224 11222 11221 11220 11385 10169 10168 10167 10165 10162 10282 10280 10040 10044 11109 11104 11105 11379 11378 11377 11697 11694 11692 11693 11691 10271 10279 10278 10075 10302 10301 10452 11451 10475 10474 10471 10470 10473 10472 11228 11223 10103 11368 11369 11366 11367 11364 11365 11362 11363 11360 11361 10028 10029 10026 10027 10024 10025 10022 10023 10020 10021 11212 11213 11210 11211 11216 11217 11214 11215 11218 11219 10152 10153 10154 10307 10306 10305 11429 10310 10311 10312 10314 11432 11433 11430 11436 11434 11435 10453 10451 10457 10456 10455 10454 10459 10458 10128 10004 10005 10006 10007 10001 10002 10003 10009 11238 11239 11230 11231 11232 11233 11234 11235 11236 11237 11375 11374 11371 11370 11373 11372 10170 10171 10172 10173 10174 10177 11351 10039 10038 10035 10034 10037 10036 10031 10030 10033 10032 11201 11208 11203 11205 11204 11207 11206 11209 11411 11412 11413 11414 11415 11416 11417 11418 11419 11101 11102 11103 11106 11001 11005 11004 10065 10069 10199 10309 10308 10304 10303 11428 11421 11420 11423 11422 11425 11424 11427 11426 10466 10467 10464 10465 10462 10463 10460 10461 10468 10469 10119 10115 10112 10110 10111 11359 11358 11357 11356 11355 11354 10019 10018 10013 10012 10011 10010 10017 10016 10014 10008 10041 10043 10055 10060 10080 10081 10087 10090 10101 10102 10104 10105 10106 10107 10108 10109 10113 10114 10116 10117 10118 10120 10121 10122 10123 10124 10125 10126 10129 10130 10131 10132 10133 10138 10150 10151 10155 10156 10157 10158 10159 10160 10163 10164 10166 10175 10176 10178 10179 10185 10203 10211 10212 10213 10242 10249 10256 10258 10259 10260 10261 10265 10268 10269 10270 10272 10273 10274 10275 10276 10277 10281 10285 10286 10313 11120 11202 11241 11242 11243 11245 11247 11249 11251 11252 11256 11352 11380 11381 11386 11405 11431 11437 11439 11499 11690 11695</td></tr><tr><td>LOS ANGELES</td><td>CA</td><td>CALIFORNIA</td><td>LOS ANGELES</td><td>12750807</td><td>America/Los_Angeles</td><td>90291 90293 90292 91316 91311 90037 90031 90008 90004 90005 90006 90007 90001 90002 90003 90710 90089 91344 91345 91340 91342 91343 90035 90034 90036 90033 90032 90039 90247 90248 91436 91371 91605 91604 91607 91601 91602 90402 90068 90069 90062 90063 90061 90066 90067 90064 90065 91326 91324 91325 90013 90012 90011 90010 90017 90016 90015 90014 90019 90090 90095 90094 91042 91040 91411 91352 91356 90041 90042 90043 90044 90045 90046 90047 90048 90049 90018 91423 90210 91303 91304 91306 91307 90079 90071 90077 90059 91608 91606 91331 91330 91335 90026 90027 90024 90025 90023 90020 90021 90028 90029 90272 90732 90731 90230 91406 91405 91403 91402 91401 91367 91364 90038 90057 90058 90744 90501 90502 90009 90030 90050 90051 90053 90054 90055 90060 90070 90072 90074 90075 90076 90078 90080 90081 90082 90083 90084 90086 90087 90088 90093 90099 90134 90189 90213 90294 90295 90296 90733 90734 90748 91041 91043 91305 91308 91309 91313 91327 91328 91329 91333 91334 91337 91346 91353 91357 91365 91392 91393 91394 91395 91396 91404 91407 91408 91409 91410 91412 91413 91416 91426 91470 91482 91495 91496 91499 91603 91609 91610 91611 91612 91614 91615 91616 91617 91618</td></tr><tr><td>CHICAGO</td><td>IL</td><td>ILLINOIS</td><td>COOK</td><td>8604203</td><td>America/Chicago</td><td>60018 60649 60641 60640 60643 60642 60645 60644 60647 60646 60616 60617 60614 60615 60612 60613 60610 60611 60618 60619 60827 60638 60639 60634 60636 60637 60630 60631 60632 60633 60605 60604 60607 60606 60601 60603 60602 60609 60608 60106 60661 60660 60659 60652 60653 60651 60656 60657 60654 60655 60623 60622 60621 60620 60626 60625 60624 60629 60628 60707 60499 60664 60666 60668 60669 60670 60673 60674 60675 60677 60678 60680 60681 60684 60685 60686 60687 60688 60689 60690 60694 60695 60696 60699</td></tr></tbody></table></div>"
      ]
     },
     "metadata": {
      "application/vnd.databricks.v1+output": {
       "addedWidgets": {},
       "aggData": [],
       "aggError": "",
       "aggOverflow": false,
       "aggSchema": [],
       "aggSeriesLimitReached": false,
       "aggType": "",
       "arguments": {},
       "columnCustomDisplayInfos": {},
       "data": [
        [
         "NEW YORK",
         "NY",
         "NEW YORK",
         "NEW YORK",
         18713220,
         "America/New_York",
         "11229 11226 11225 11224 11222 11221 11220 11385 10169 10168 10167 10165 10162 10282 10280 10040 10044 11109 11104 11105 11379 11378 11377 11697 11694 11692 11693 11691 10271 10279 10278 10075 10302 10301 10452 11451 10475 10474 10471 10470 10473 10472 11228 11223 10103 11368 11369 11366 11367 11364 11365 11362 11363 11360 11361 10028 10029 10026 10027 10024 10025 10022 10023 10020 10021 11212 11213 11210 11211 11216 11217 11214 11215 11218 11219 10152 10153 10154 10307 10306 10305 11429 10310 10311 10312 10314 11432 11433 11430 11436 11434 11435 10453 10451 10457 10456 10455 10454 10459 10458 10128 10004 10005 10006 10007 10001 10002 10003 10009 11238 11239 11230 11231 11232 11233 11234 11235 11236 11237 11375 11374 11371 11370 11373 11372 10170 10171 10172 10173 10174 10177 11351 10039 10038 10035 10034 10037 10036 10031 10030 10033 10032 11201 11208 11203 11205 11204 11207 11206 11209 11411 11412 11413 11414 11415 11416 11417 11418 11419 11101 11102 11103 11106 11001 11005 11004 10065 10069 10199 10309 10308 10304 10303 11428 11421 11420 11423 11422 11425 11424 11427 11426 10466 10467 10464 10465 10462 10463 10460 10461 10468 10469 10119 10115 10112 10110 10111 11359 11358 11357 11356 11355 11354 10019 10018 10013 10012 10011 10010 10017 10016 10014 10008 10041 10043 10055 10060 10080 10081 10087 10090 10101 10102 10104 10105 10106 10107 10108 10109 10113 10114 10116 10117 10118 10120 10121 10122 10123 10124 10125 10126 10129 10130 10131 10132 10133 10138 10150 10151 10155 10156 10157 10158 10159 10160 10163 10164 10166 10175 10176 10178 10179 10185 10203 10211 10212 10213 10242 10249 10256 10258 10259 10260 10261 10265 10268 10269 10270 10272 10273 10274 10275 10276 10277 10281 10285 10286 10313 11120 11202 11241 11242 11243 11245 11247 11249 11251 11252 11256 11352 11380 11381 11386 11405 11431 11437 11439 11499 11690 11695"
        ],
        [
         "LOS ANGELES",
         "CA",
         "CALIFORNIA",
         "LOS ANGELES",
         12750807,
         "America/Los_Angeles",
         "90291 90293 90292 91316 91311 90037 90031 90008 90004 90005 90006 90007 90001 90002 90003 90710 90089 91344 91345 91340 91342 91343 90035 90034 90036 90033 90032 90039 90247 90248 91436 91371 91605 91604 91607 91601 91602 90402 90068 90069 90062 90063 90061 90066 90067 90064 90065 91326 91324 91325 90013 90012 90011 90010 90017 90016 90015 90014 90019 90090 90095 90094 91042 91040 91411 91352 91356 90041 90042 90043 90044 90045 90046 90047 90048 90049 90018 91423 90210 91303 91304 91306 91307 90079 90071 90077 90059 91608 91606 91331 91330 91335 90026 90027 90024 90025 90023 90020 90021 90028 90029 90272 90732 90731 90230 91406 91405 91403 91402 91401 91367 91364 90038 90057 90058 90744 90501 90502 90009 90030 90050 90051 90053 90054 90055 90060 90070 90072 90074 90075 90076 90078 90080 90081 90082 90083 90084 90086 90087 90088 90093 90099 90134 90189 90213 90294 90295 90296 90733 90734 90748 91041 91043 91305 91308 91309 91313 91327 91328 91329 91333 91334 91337 91346 91353 91357 91365 91392 91393 91394 91395 91396 91404 91407 91408 91409 91410 91412 91413 91416 91426 91470 91482 91495 91496 91499 91603 91609 91610 91611 91612 91614 91615 91616 91617 91618"
        ],
        [
         "CHICAGO",
         "IL",
         "ILLINOIS",
         "COOK",
         8604203,
         "America/Chicago",
         "60018 60649 60641 60640 60643 60642 60645 60644 60647 60646 60616 60617 60614 60615 60612 60613 60610 60611 60618 60619 60827 60638 60639 60634 60636 60637 60630 60631 60632 60633 60605 60604 60607 60606 60601 60603 60602 60609 60608 60106 60661 60660 60659 60652 60653 60651 60656 60657 60654 60655 60623 60622 60621 60620 60626 60625 60624 60629 60628 60707 60499 60664 60666 60668 60669 60670 60673 60674 60675 60677 60678 60680 60681 60684 60685 60686 60687 60688 60689 60690 60694 60695 60696 60699"
        ]
       ],
       "datasetInfos": [],
       "dbfsResultPath": null,
       "isJsonSchema": true,
       "metadata": {},
       "overflow": false,
       "plotOptions": {
        "customPlotOptions": {},
        "displayType": "table",
        "pivotAggregation": null,
        "pivotColumns": null,
        "xColumns": null,
        "yColumns": null
       },
       "removedWidgets": [],
       "schema": [
        {
         "metadata": "{}",
         "name": "city",
         "type": "\"string\""
        },
        {
         "metadata": "{}",
         "name": "state_id",
         "type": "\"string\""
        },
        {
         "metadata": "{}",
         "name": "state_name",
         "type": "\"string\""
        },
        {
         "metadata": "{}",
         "name": "county_name",
         "type": "\"string\""
        },
        {
         "metadata": "{}",
         "name": "population",
         "type": "\"integer\""
        },
        {
         "metadata": "{}",
         "name": "timezone",
         "type": "\"string\""
        },
        {
         "metadata": "{}",
         "name": "zips",
         "type": "\"string\""
        }
       ],
       "type": "table"
      }
     },
     "output_type": "display_data"
    },
    {
     "output_type": "stream",
     "name": "stdout",
     "output_type": "stream",
     "text": [
      "root\n |-- city: string (nullable = true)\n |-- state_id: string (nullable = true)\n |-- state_name: string (nullable = true)\n |-- county_name: string (nullable = true)\n |-- population: integer (nullable = true)\n |-- timezone: string (nullable = true)\n |-- zips: string (nullable = true)\n\n"
     ]
    }
   ],
   "source": [
    "# Drop extra col\n",
    "df_city = df1.select(\n",
    "                    upper(df1.city).alias('city'),\n",
    "                    df1.state_id,\n",
    "                    upper(df1.state_name).alias('state_name'),\n",
    "                    upper(df1.county_name).alias('county_name'),\n",
    "                    df1.population,\n",
    "                    df1.timezone,\n",
    "                    df1.zips\n",
    "                    )\n",
    "display(df_city.limit(3))\n",
    "\n",
    "df_city.printSchema()"
   ]
  },
  {
   "cell_type": "code",
   "execution_count": 0,
   "metadata": {
    "application/vnd.databricks.v1+cell": {
     "cellMetadata": {
      "byteLimit": 2048000,
      "rowLimit": 10000
     },
     "inputWidgets": {},
     "nuid": "ec1d1496-89c8-4065-aec7-9ac12738e6c2",
     "showTitle": false,
     "title": ""
    }
   },
   "outputs": [
    {
     "output_type": "display_data",
     "data": {
      "text/html": [
       "<style scoped>\n",
       "  .table-result-container {\n",
       "    max-height: 300px;\n",
       "    overflow: auto;\n",
       "  }\n",
       "  table, th, td {\n",
       "    border: 1px solid black;\n",
       "    border-collapse: collapse;\n",
       "  }\n",
       "  th, td {\n",
       "    padding: 5px;\n",
       "  }\n",
       "  th {\n",
       "    text-align: left;\n",
       "  }\n",
       "</style><div class='table-result-container'><table class='table-result'><thead style='background-color: white'><tr><th>npi</th><th>nppes_provider_last_org_name</th><th>nppes_provider_first_name</th><th>nppes_provider_city</th><th>nppes_provider_state</th><th>specialty_description</th><th>description_flag</th><th>drug_name</th><th>generic_name</th><th>bene_count</th><th>total_claim_count</th><th>total_30_day_fill_count</th><th>total_day_supply</th><th>total_drug_cost</th><th>bene_count_ge65</th><th>bene_count_ge65_suppress_flag</th><th>total_claim_count_ge65</th><th>ge65_suppress_flag</th><th>total_30_day_fill_count_ge65</th><th>total_day_supply_ge65</th><th>total_drug_cost_ge65</th><th>years_of_exp</th></tr></thead><tbody><tr><td>2006000252</td><td>ENKESHAFI</td><td>ARDALAN</td><td>CUMBERLAND</td><td>MD</td><td>Internal Medicine</td><td>S</td><td>ATORVASTATIN CALCIUM</td><td>ATORVASTATIN CALCIUM</td><td>null</td><td>13</td><td>15.0</td><td>450</td><td>139.32</td><td>null</td><td>*</td><td>13</td><td>null</td><td>15.0</td><td>450</td><td>139.32</td><td>= 45.0</td></tr><tr><td>2006000252</td><td>ENKESHAFI</td><td>ARDALAN</td><td>CUMBERLAND</td><td>MD</td><td>Internal Medicine</td><td>S</td><td>CIPROFLOXACIN HCL</td><td>CIPROFLOXACIN HCL</td><td>null</td><td>11</td><td>11.0</td><td>96</td><td>80.99</td><td>null</td><td>*</td><td>null</td><td>*</td><td>null</td><td>null</td><td>null</td><td>= 43.0</td></tr><tr><td>2006000252</td><td>ENKESHAFI</td><td>ARDALAN</td><td>CUMBERLAND</td><td>MD</td><td>Internal Medicine</td><td>S</td><td>DOXYCYCLINE HYCLATE</td><td>DOXYCYCLINE HYCLATE</td><td>20</td><td>20</td><td>20.0</td><td>199</td><td>586.12</td><td>null</td><td>#</td><td>null</td><td>#</td><td>null</td><td>null</td><td>null</td><td>= 33.0</td></tr></tbody></table></div>"
      ]
     },
     "metadata": {
      "application/vnd.databricks.v1+output": {
       "addedWidgets": {},
       "aggData": [],
       "aggError": "",
       "aggOverflow": false,
       "aggSchema": [],
       "aggSeriesLimitReached": false,
       "aggType": "",
       "arguments": {},
       "columnCustomDisplayInfos": {},
       "data": [
        [
         2006000252,
         "ENKESHAFI",
         "ARDALAN",
         "CUMBERLAND",
         "MD",
         "Internal Medicine",
         "S",
         "ATORVASTATIN CALCIUM",
         "ATORVASTATIN CALCIUM",
         null,
         13,
         15.0,
         450,
         139.32,
         null,
         "*",
         13,
         null,
         15.0,
         450,
         139.32,
         "= 45.0"
        ],
        [
         2006000252,
         "ENKESHAFI",
         "ARDALAN",
         "CUMBERLAND",
         "MD",
         "Internal Medicine",
         "S",
         "CIPROFLOXACIN HCL",
         "CIPROFLOXACIN HCL",
         null,
         11,
         11.0,
         96,
         80.99,
         null,
         "*",
         null,
         "*",
         null,
         null,
         null,
         "= 43.0"
        ],
        [
         2006000252,
         "ENKESHAFI",
         "ARDALAN",
         "CUMBERLAND",
         "MD",
         "Internal Medicine",
         "S",
         "DOXYCYCLINE HYCLATE",
         "DOXYCYCLINE HYCLATE",
         20,
         20,
         20.0,
         199,
         586.12,
         null,
         "#",
         null,
         "#",
         null,
         null,
         null,
         "= 33.0"
        ]
       ],
       "datasetInfos": [],
       "dbfsResultPath": null,
       "isJsonSchema": true,
       "metadata": {},
       "overflow": false,
       "plotOptions": {
        "customPlotOptions": {},
        "displayType": "table",
        "pivotAggregation": null,
        "pivotColumns": null,
        "xColumns": null,
        "yColumns": null
       },
       "removedWidgets": [],
       "schema": [
        {
         "metadata": "{}",
         "name": "npi",
         "type": "\"integer\""
        },
        {
         "metadata": "{}",
         "name": "nppes_provider_last_org_name",
         "type": "\"string\""
        },
        {
         "metadata": "{}",
         "name": "nppes_provider_first_name",
         "type": "\"string\""
        },
        {
         "metadata": "{}",
         "name": "nppes_provider_city",
         "type": "\"string\""
        },
        {
         "metadata": "{}",
         "name": "nppes_provider_state",
         "type": "\"string\""
        },
        {
         "metadata": "{}",
         "name": "specialty_description",
         "type": "\"string\""
        },
        {
         "metadata": "{}",
         "name": "description_flag",
         "type": "\"string\""
        },
        {
         "metadata": "{}",
         "name": "drug_name",
         "type": "\"string\""
        },
        {
         "metadata": "{}",
         "name": "generic_name",
         "type": "\"string\""
        },
        {
         "metadata": "{}",
         "name": "bene_count",
         "type": "\"integer\""
        },
        {
         "metadata": "{}",
         "name": "total_claim_count",
         "type": "\"integer\""
        },
        {
         "metadata": "{}",
         "name": "total_30_day_fill_count",
         "type": "\"double\""
        },
        {
         "metadata": "{}",
         "name": "total_day_supply",
         "type": "\"integer\""
        },
        {
         "metadata": "{}",
         "name": "total_drug_cost",
         "type": "\"double\""
        },
        {
         "metadata": "{}",
         "name": "bene_count_ge65",
         "type": "\"integer\""
        },
        {
         "metadata": "{}",
         "name": "bene_count_ge65_suppress_flag",
         "type": "\"string\""
        },
        {
         "metadata": "{}",
         "name": "total_claim_count_ge65",
         "type": "\"integer\""
        },
        {
         "metadata": "{}",
         "name": "ge65_suppress_flag",
         "type": "\"string\""
        },
        {
         "metadata": "{}",
         "name": "total_30_day_fill_count_ge65",
         "type": "\"double\""
        },
        {
         "metadata": "{}",
         "name": "total_day_supply_ge65",
         "type": "\"integer\""
        },
        {
         "metadata": "{}",
         "name": "total_drug_cost_ge65",
         "type": "\"double\""
        },
        {
         "metadata": "{}",
         "name": "years_of_exp",
         "type": "\"string\""
        }
       ],
       "type": "table"
      }
     },
     "output_type": "display_data"
    },
    {
     "output_type": "stream",
     "name": "stdout",
     "output_type": "stream",
     "text": [
      "root\n |-- npi: integer (nullable = true)\n |-- nppes_provider_last_org_name: string (nullable = true)\n |-- nppes_provider_first_name: string (nullable = true)\n |-- nppes_provider_city: string (nullable = true)\n |-- nppes_provider_state: string (nullable = true)\n |-- specialty_description: string (nullable = true)\n |-- description_flag: string (nullable = true)\n |-- drug_name: string (nullable = true)\n |-- generic_name: string (nullable = true)\n |-- bene_count: integer (nullable = true)\n |-- total_claim_count: integer (nullable = true)\n |-- total_30_day_fill_count: double (nullable = true)\n |-- total_day_supply: integer (nullable = true)\n |-- total_drug_cost: double (nullable = true)\n |-- bene_count_ge65: integer (nullable = true)\n |-- bene_count_ge65_suppress_flag: string (nullable = true)\n |-- total_claim_count_ge65: integer (nullable = true)\n |-- ge65_suppress_flag: string (nullable = true)\n |-- total_30_day_fill_count_ge65: double (nullable = true)\n |-- total_day_supply_ge65: integer (nullable = true)\n |-- total_drug_cost_ge65: double (nullable = true)\n |-- years_of_exp: string (nullable = true)\n\nOut[4]: 1329329"
     ]
    }
   ],
   "source": [
    "df2 = spark.read.csv('/FileStore/tables/USA_Presc_Medicare_Data_12021.csv' , inferSchema=True , header=True)\n",
    "display(df2.limit(3))\n",
    "df2.printSchema()\n",
    "\n",
    "df2.count()"
   ]
  },
  {
   "cell_type": "code",
   "execution_count": 0,
   "metadata": {
    "application/vnd.databricks.v1+cell": {
     "cellMetadata": {
      "byteLimit": 2048000,
      "rowLimit": 10000
     },
     "inputWidgets": {},
     "nuid": "8ffac007-ac83-433a-98bd-3c914a8ae500",
     "showTitle": false,
     "title": ""
    }
   },
   "outputs": [
    {
     "output_type": "display_data",
     "data": {
      "text/html": [
       "<style scoped>\n",
       "  .table-result-container {\n",
       "    max-height: 300px;\n",
       "    overflow: auto;\n",
       "  }\n",
       "  table, th, td {\n",
       "    border: 1px solid black;\n",
       "    border-collapse: collapse;\n",
       "  }\n",
       "  th, td {\n",
       "    padding: 5px;\n",
       "  }\n",
       "  th {\n",
       "    text-align: left;\n",
       "  }\n",
       "</style><div class='table-result-container'><table class='table-result'><thead style='background-color: white'><tr><th>presc_id</th><th>presc_lname</th><th>presc_fname</th><th>presc_city</th><th>presc_state</th><th>presc_speclty</th><th>tx_cnt</th><th>drug_name</th><th>total_drug_cost</th><th>total_day_supply</th><th>years_of_exp</th></tr></thead><tbody><tr><td>2006000252</td><td>ENKESHAFI</td><td>ARDALAN</td><td>CUMBERLAND</td><td>MD</td><td>Internal Medicine</td><td>13</td><td>ATORVASTATIN CALCIUM</td><td>139.32</td><td>450</td><td>= 45.0</td></tr><tr><td>2006000252</td><td>ENKESHAFI</td><td>ARDALAN</td><td>CUMBERLAND</td><td>MD</td><td>Internal Medicine</td><td>11</td><td>CIPROFLOXACIN HCL</td><td>80.99</td><td>96</td><td>= 43.0</td></tr><tr><td>2006000252</td><td>ENKESHAFI</td><td>ARDALAN</td><td>CUMBERLAND</td><td>MD</td><td>Internal Medicine</td><td>20</td><td>DOXYCYCLINE HYCLATE</td><td>586.12</td><td>199</td><td>= 33.0</td></tr></tbody></table></div>"
      ]
     },
     "metadata": {
      "application/vnd.databricks.v1+output": {
       "addedWidgets": {},
       "aggData": [],
       "aggError": "",
       "aggOverflow": false,
       "aggSchema": [],
       "aggSeriesLimitReached": false,
       "aggType": "",
       "arguments": {},
       "columnCustomDisplayInfos": {},
       "data": [
        [
         2006000252,
         "ENKESHAFI",
         "ARDALAN",
         "CUMBERLAND",
         "MD",
         "Internal Medicine",
         13,
         "ATORVASTATIN CALCIUM",
         139.32,
         450,
         "= 45.0"
        ],
        [
         2006000252,
         "ENKESHAFI",
         "ARDALAN",
         "CUMBERLAND",
         "MD",
         "Internal Medicine",
         11,
         "CIPROFLOXACIN HCL",
         80.99,
         96,
         "= 43.0"
        ],
        [
         2006000252,
         "ENKESHAFI",
         "ARDALAN",
         "CUMBERLAND",
         "MD",
         "Internal Medicine",
         20,
         "DOXYCYCLINE HYCLATE",
         586.12,
         199,
         "= 33.0"
        ]
       ],
       "datasetInfos": [],
       "dbfsResultPath": null,
       "isJsonSchema": true,
       "metadata": {},
       "overflow": false,
       "plotOptions": {
        "customPlotOptions": {},
        "displayType": "table",
        "pivotAggregation": null,
        "pivotColumns": null,
        "xColumns": null,
        "yColumns": null
       },
       "removedWidgets": [],
       "schema": [
        {
         "metadata": "{}",
         "name": "presc_id",
         "type": "\"integer\""
        },
        {
         "metadata": "{}",
         "name": "presc_lname",
         "type": "\"string\""
        },
        {
         "metadata": "{}",
         "name": "presc_fname",
         "type": "\"string\""
        },
        {
         "metadata": "{}",
         "name": "presc_city",
         "type": "\"string\""
        },
        {
         "metadata": "{}",
         "name": "presc_state",
         "type": "\"string\""
        },
        {
         "metadata": "{}",
         "name": "presc_speclty",
         "type": "\"string\""
        },
        {
         "metadata": "{}",
         "name": "tx_cnt",
         "type": "\"integer\""
        },
        {
         "metadata": "{}",
         "name": "drug_name",
         "type": "\"string\""
        },
        {
         "metadata": "{}",
         "name": "total_drug_cost",
         "type": "\"double\""
        },
        {
         "metadata": "{}",
         "name": "total_day_supply",
         "type": "\"integer\""
        },
        {
         "metadata": "{}",
         "name": "years_of_exp",
         "type": "\"string\""
        }
       ],
       "type": "table"
      }
     },
     "output_type": "display_data"
    }
   ],
   "source": [
    "# drop extra col \n",
    "df_presc = df2.select(\n",
    "            df2.npi.alias('presc_id'),\n",
    "            df2.nppes_provider_last_org_name.alias('presc_lname'),\n",
    "            df2.nppes_provider_first_name.alias('presc_fname'),\n",
    "            df2.nppes_provider_city.alias('presc_city'),\n",
    "            df2.nppes_provider_state.alias('presc_state'),\n",
    "            df2.specialty_description.alias('presc_speclty'),\n",
    "             df2.total_claim_count.alias('tx_cnt'),\n",
    "            df2.drug_name,\n",
    "            df2.total_drug_cost,\n",
    "            df2.total_day_supply,\n",
    "            df2.years_of_exp           \n",
    "            )\n",
    "display(df_presc.limit(3))\n"
   ]
  },
  {
   "cell_type": "code",
   "execution_count": 0,
   "metadata": {
    "application/vnd.databricks.v1+cell": {
     "cellMetadata": {
      "byteLimit": 2048000,
      "rowLimit": 10000
     },
     "inputWidgets": {},
     "nuid": "7175b10b-6c9f-4f86-bf45-e664ae086078",
     "showTitle": false,
     "title": ""
    }
   },
   "outputs": [
    {
     "output_type": "display_data",
     "data": {
      "text/html": [
       "<style scoped>\n",
       "  .table-result-container {\n",
       "    max-height: 300px;\n",
       "    overflow: auto;\n",
       "  }\n",
       "  table, th, td {\n",
       "    border: 1px solid black;\n",
       "    border-collapse: collapse;\n",
       "  }\n",
       "  th, td {\n",
       "    padding: 5px;\n",
       "  }\n",
       "  th {\n",
       "    text-align: left;\n",
       "  }\n",
       "</style><div class='table-result-container'><table class='table-result'><thead style='background-color: white'><tr><th>presc_id</th><th>presc_city</th><th>presc_state</th><th>presc_speclty</th><th>tx_cnt</th><th>drug_name</th><th>total_drug_cost</th><th>total_day_supply</th><th>years_of_exp</th><th>name</th><th>country_name</th></tr></thead><tbody><tr><td>2006000252</td><td>CUMBERLAND</td><td>MD</td><td>Internal Medicine</td><td>13</td><td>ATORVASTATIN CALCIUM</td><td>139.32</td><td>450</td><td>= 45.0</td><td>ARDALAN ENKESHAFI</td><td>USA</td></tr><tr><td>2006000252</td><td>CUMBERLAND</td><td>MD</td><td>Internal Medicine</td><td>11</td><td>CIPROFLOXACIN HCL</td><td>80.99</td><td>96</td><td>= 43.0</td><td>ARDALAN ENKESHAFI</td><td>USA</td></tr><tr><td>2006000252</td><td>CUMBERLAND</td><td>MD</td><td>Internal Medicine</td><td>20</td><td>DOXYCYCLINE HYCLATE</td><td>586.12</td><td>199</td><td>= 33.0</td><td>ARDALAN ENKESHAFI</td><td>USA</td></tr></tbody></table></div>"
      ]
     },
     "metadata": {
      "application/vnd.databricks.v1+output": {
       "addedWidgets": {},
       "aggData": [],
       "aggError": "",
       "aggOverflow": false,
       "aggSchema": [],
       "aggSeriesLimitReached": false,
       "aggType": "",
       "arguments": {},
       "columnCustomDisplayInfos": {},
       "data": [
        [
         2006000252,
         "CUMBERLAND",
         "MD",
         "Internal Medicine",
         13,
         "ATORVASTATIN CALCIUM",
         139.32,
         450,
         "= 45.0",
         "ARDALAN ENKESHAFI",
         "USA"
        ],
        [
         2006000252,
         "CUMBERLAND",
         "MD",
         "Internal Medicine",
         11,
         "CIPROFLOXACIN HCL",
         80.99,
         96,
         "= 43.0",
         "ARDALAN ENKESHAFI",
         "USA"
        ],
        [
         2006000252,
         "CUMBERLAND",
         "MD",
         "Internal Medicine",
         20,
         "DOXYCYCLINE HYCLATE",
         586.12,
         199,
         "= 33.0",
         "ARDALAN ENKESHAFI",
         "USA"
        ]
       ],
       "datasetInfos": [],
       "dbfsResultPath": null,
       "isJsonSchema": true,
       "metadata": {},
       "overflow": false,
       "plotOptions": {
        "customPlotOptions": {},
        "displayType": "table",
        "pivotAggregation": null,
        "pivotColumns": null,
        "xColumns": null,
        "yColumns": null
       },
       "removedWidgets": [],
       "schema": [
        {
         "metadata": "{}",
         "name": "presc_id",
         "type": "\"integer\""
        },
        {
         "metadata": "{}",
         "name": "presc_city",
         "type": "\"string\""
        },
        {
         "metadata": "{}",
         "name": "presc_state",
         "type": "\"string\""
        },
        {
         "metadata": "{}",
         "name": "presc_speclty",
         "type": "\"string\""
        },
        {
         "metadata": "{}",
         "name": "tx_cnt",
         "type": "\"integer\""
        },
        {
         "metadata": "{}",
         "name": "drug_name",
         "type": "\"string\""
        },
        {
         "metadata": "{}",
         "name": "total_drug_cost",
         "type": "\"double\""
        },
        {
         "metadata": "{}",
         "name": "total_day_supply",
         "type": "\"integer\""
        },
        {
         "metadata": "{}",
         "name": "years_of_exp",
         "type": "\"string\""
        },
        {
         "metadata": "{}",
         "name": "name",
         "type": "\"string\""
        },
        {
         "metadata": "{}",
         "name": "country_name",
         "type": "\"string\""
        }
       ],
       "type": "table"
      }
     },
     "output_type": "display_data"
    }
   ],
   "source": [
    "# Concat fname , lname to name & Add new col 'country_name' \n",
    "from pyspark.sql.types import *\n",
    "\n",
    "df_presc  = df_presc.withColumn('name' , concat_ws(' ','presc_fname','presc_lname'))\n",
    "# \n",
    "df_presc = df_presc.withColumn('country_name' , lit('USA'))\n",
    "\n",
    "df_presc = df_presc.drop('presc_fname' , 'presc_lname')\n",
    "\n",
    "display(df_presc.limit(3))"
   ]
  },
  {
   "cell_type": "code",
   "execution_count": 0,
   "metadata": {
    "application/vnd.databricks.v1+cell": {
     "cellMetadata": {
      "byteLimit": 2048000,
      "rowLimit": 10000
     },
     "inputWidgets": {},
     "nuid": "ec3ab05c-7b02-4e2f-bc99-336f2fa7dfb6",
     "showTitle": false,
     "title": ""
    }
   },
   "outputs": [
    {
     "output_type": "display_data",
     "data": {
      "text/html": [
       "<style scoped>\n",
       "  .table-result-container {\n",
       "    max-height: 300px;\n",
       "    overflow: auto;\n",
       "  }\n",
       "  table, th, td {\n",
       "    border: 1px solid black;\n",
       "    border-collapse: collapse;\n",
       "  }\n",
       "  th, td {\n",
       "    padding: 5px;\n",
       "  }\n",
       "  th {\n",
       "    text-align: left;\n",
       "  }\n",
       "</style><div class='table-result-container'><table class='table-result'><thead style='background-color: white'><tr><th>presc_id</th><th>presc_city</th><th>presc_state</th><th>presc_speclty</th><th>tx_cnt</th><th>drug_name</th><th>total_drug_cost</th><th>total_day_supply</th><th>years_of_exp</th><th>name</th><th>country_name</th></tr></thead><tbody><tr><td>22</td><td>1</td><td>1</td><td>1</td><td>3</td><td>15</td><td>1</td><td>1</td><td>1</td><td>0</td><td>0</td></tr></tbody></table></div>"
      ]
     },
     "metadata": {
      "application/vnd.databricks.v1+output": {
       "addedWidgets": {},
       "aggData": [],
       "aggError": "",
       "aggOverflow": false,
       "aggSchema": [],
       "aggSeriesLimitReached": false,
       "aggType": "",
       "arguments": {},
       "columnCustomDisplayInfos": {},
       "data": [
        [
         22,
         1,
         1,
         1,
         3,
         15,
         1,
         1,
         1,
         0,
         0
        ]
       ],
       "datasetInfos": [],
       "dbfsResultPath": null,
       "isJsonSchema": true,
       "metadata": {},
       "overflow": false,
       "plotOptions": {
        "customPlotOptions": {},
        "displayType": "table",
        "pivotAggregation": null,
        "pivotColumns": null,
        "xColumns": null,
        "yColumns": null
       },
       "removedWidgets": [],
       "schema": [
        {
         "metadata": "{}",
         "name": "presc_id",
         "type": "\"long\""
        },
        {
         "metadata": "{}",
         "name": "presc_city",
         "type": "\"long\""
        },
        {
         "metadata": "{}",
         "name": "presc_state",
         "type": "\"long\""
        },
        {
         "metadata": "{}",
         "name": "presc_speclty",
         "type": "\"long\""
        },
        {
         "metadata": "{}",
         "name": "tx_cnt",
         "type": "\"long\""
        },
        {
         "metadata": "{}",
         "name": "drug_name",
         "type": "\"long\""
        },
        {
         "metadata": "{}",
         "name": "total_drug_cost",
         "type": "\"long\""
        },
        {
         "metadata": "{}",
         "name": "total_day_supply",
         "type": "\"long\""
        },
        {
         "metadata": "{}",
         "name": "years_of_exp",
         "type": "\"long\""
        },
        {
         "metadata": "{}",
         "name": "name",
         "type": "\"long\""
        },
        {
         "metadata": "{}",
         "name": "country_name",
         "type": "\"long\""
        }
       ],
       "type": "table"
      }
     },
     "output_type": "display_data"
    }
   ],
   "source": [
    "\n",
    "#  Handling Missing values\n",
    "def check_null(df):\n",
    "    nulls = []\n",
    "    for i in df.columns:\n",
    "        null_count = count(when(isnan(i) | col(i).isNull(),i)).alias(i)\n",
    "        nulls.append(null_count)\n",
    "    df_null = df.select(nulls)\n",
    "    display(df_null)\n",
    "\n",
    "check_null(df_presc)"
   ]
  },
  {
   "cell_type": "code",
   "execution_count": 0,
   "metadata": {
    "application/vnd.databricks.v1+cell": {
     "cellMetadata": {
      "byteLimit": 2048000,
      "rowLimit": 10000
     },
     "inputWidgets": {},
     "nuid": "5e6cd123-67b6-4820-adfe-28b016188fd8",
     "showTitle": false,
     "title": ""
    }
   },
   "outputs": [
    {
     "output_type": "display_data",
     "data": {
      "text/html": [
       "<style scoped>\n",
       "  .table-result-container {\n",
       "    max-height: 300px;\n",
       "    overflow: auto;\n",
       "  }\n",
       "  table, th, td {\n",
       "    border: 1px solid black;\n",
       "    border-collapse: collapse;\n",
       "  }\n",
       "  th, td {\n",
       "    padding: 5px;\n",
       "  }\n",
       "  th {\n",
       "    text-align: left;\n",
       "  }\n",
       "</style><div class='table-result-container'><table class='table-result'><thead style='background-color: white'><tr><th>presc_id</th><th>presc_city</th><th>presc_state</th><th>presc_speclty</th><th>tx_cnt</th><th>drug_name</th><th>total_drug_cost</th><th>total_day_supply</th><th>years_of_exp</th><th>name</th><th>country_name</th></tr></thead><tbody><tr><td>2006000252</td><td>CUMBERLAND</td><td>MD</td><td>Internal Medicine</td><td>13</td><td>ATORVASTATIN CALCIUM</td><td>139.32</td><td>450</td><td>= 45.0</td><td>ARDALAN ENKESHAFI</td><td>USA</td></tr><tr><td>2006000252</td><td>CUMBERLAND</td><td>MD</td><td>Internal Medicine</td><td>11</td><td>CIPROFLOXACIN HCL</td><td>80.99</td><td>96</td><td>= 43.0</td><td>ARDALAN ENKESHAFI</td><td>USA</td></tr><tr><td>2006000252</td><td>CUMBERLAND</td><td>MD</td><td>Internal Medicine</td><td>20</td><td>DOXYCYCLINE HYCLATE</td><td>586.12</td><td>199</td><td>= 33.0</td><td>ARDALAN ENKESHAFI</td><td>USA</td></tr></tbody></table></div>"
      ]
     },
     "metadata": {
      "application/vnd.databricks.v1+output": {
       "addedWidgets": {},
       "aggData": [],
       "aggError": "",
       "aggOverflow": false,
       "aggSchema": [],
       "aggSeriesLimitReached": false,
       "aggType": "",
       "arguments": {},
       "columnCustomDisplayInfos": {},
       "data": [
        [
         2006000252,
         "CUMBERLAND",
         "MD",
         "Internal Medicine",
         13,
         "ATORVASTATIN CALCIUM",
         139.32,
         450,
         "= 45.0",
         "ARDALAN ENKESHAFI",
         "USA"
        ],
        [
         2006000252,
         "CUMBERLAND",
         "MD",
         "Internal Medicine",
         11,
         "CIPROFLOXACIN HCL",
         80.99,
         96,
         "= 43.0",
         "ARDALAN ENKESHAFI",
         "USA"
        ],
        [
         2006000252,
         "CUMBERLAND",
         "MD",
         "Internal Medicine",
         20,
         "DOXYCYCLINE HYCLATE",
         586.12,
         199,
         "= 33.0",
         "ARDALAN ENKESHAFI",
         "USA"
        ]
       ],
       "datasetInfos": [],
       "dbfsResultPath": null,
       "isJsonSchema": true,
       "metadata": {},
       "overflow": false,
       "plotOptions": {
        "customPlotOptions": {},
        "displayType": "table",
        "pivotAggregation": null,
        "pivotColumns": null,
        "xColumns": null,
        "yColumns": null
       },
       "removedWidgets": [],
       "schema": [
        {
         "metadata": "{}",
         "name": "presc_id",
         "type": "\"integer\""
        },
        {
         "metadata": "{}",
         "name": "presc_city",
         "type": "\"string\""
        },
        {
         "metadata": "{}",
         "name": "presc_state",
         "type": "\"string\""
        },
        {
         "metadata": "{}",
         "name": "presc_speclty",
         "type": "\"string\""
        },
        {
         "metadata": "{}",
         "name": "tx_cnt",
         "type": "\"integer\""
        },
        {
         "metadata": "{}",
         "name": "drug_name",
         "type": "\"string\""
        },
        {
         "metadata": "{}",
         "name": "total_drug_cost",
         "type": "\"double\""
        },
        {
         "metadata": "{}",
         "name": "total_day_supply",
         "type": "\"integer\""
        },
        {
         "metadata": "{}",
         "name": "years_of_exp",
         "type": "\"string\""
        },
        {
         "metadata": "{}",
         "name": "name",
         "type": "\"string\""
        },
        {
         "metadata": "{}",
         "name": "country_name",
         "type": "\"string\""
        }
       ],
       "type": "table"
      }
     },
     "output_type": "display_data"
    }
   ],
   "source": [
    "# Remove NULL Values\n",
    "df_presc = df_presc.dropna(subset=['presc_id', 'drug_name'])\n",
    "display(df_presc.limit(3))"
   ]
  },
  {
   "cell_type": "code",
   "execution_count": 0,
   "metadata": {
    "application/vnd.databricks.v1+cell": {
     "cellMetadata": {
      "byteLimit": 2048000,
      "rowLimit": 10000
     },
     "inputWidgets": {},
     "nuid": "a84bffcb-97db-47d4-9393-156a46b526a2",
     "showTitle": false,
     "title": ""
    }
   },
   "outputs": [
    {
     "output_type": "display_data",
     "data": {
      "text/html": [
       "<style scoped>\n",
       "  .table-result-container {\n",
       "    max-height: 300px;\n",
       "    overflow: auto;\n",
       "  }\n",
       "  table, th, td {\n",
       "    border: 1px solid black;\n",
       "    border-collapse: collapse;\n",
       "  }\n",
       "  th, td {\n",
       "    padding: 5px;\n",
       "  }\n",
       "  th {\n",
       "    text-align: left;\n",
       "  }\n",
       "</style><div class='table-result-container'><table class='table-result'><thead style='background-color: white'><tr><th>presc_id</th><th>presc_city</th><th>presc_state</th><th>presc_speclty</th><th>tx_cnt</th><th>drug_name</th><th>total_drug_cost</th><th>total_day_supply</th><th>years_of_exp</th><th>name</th><th>country_name</th></tr></thead><tbody><tr><td>0</td><td>0</td><td>0</td><td>0</td><td>2</td><td>0</td><td>0</td><td>0</td><td>0</td><td>0</td><td>0</td></tr></tbody></table></div>"
      ]
     },
     "metadata": {
      "application/vnd.databricks.v1+output": {
       "addedWidgets": {},
       "aggData": [],
       "aggError": "",
       "aggOverflow": false,
       "aggSchema": [],
       "aggSeriesLimitReached": false,
       "aggType": "",
       "arguments": {},
       "columnCustomDisplayInfos": {},
       "data": [
        [
         0,
         0,
         0,
         0,
         2,
         0,
         0,
         0,
         0,
         0,
         0
        ]
       ],
       "datasetInfos": [],
       "dbfsResultPath": null,
       "isJsonSchema": true,
       "metadata": {},
       "overflow": false,
       "plotOptions": {
        "customPlotOptions": {},
        "displayType": "table",
        "pivotAggregation": null,
        "pivotColumns": null,
        "xColumns": null,
        "yColumns": null
       },
       "removedWidgets": [],
       "schema": [
        {
         "metadata": "{}",
         "name": "presc_id",
         "type": "\"long\""
        },
        {
         "metadata": "{}",
         "name": "presc_city",
         "type": "\"long\""
        },
        {
         "metadata": "{}",
         "name": "presc_state",
         "type": "\"long\""
        },
        {
         "metadata": "{}",
         "name": "presc_speclty",
         "type": "\"long\""
        },
        {
         "metadata": "{}",
         "name": "tx_cnt",
         "type": "\"long\""
        },
        {
         "metadata": "{}",
         "name": "drug_name",
         "type": "\"long\""
        },
        {
         "metadata": "{}",
         "name": "total_drug_cost",
         "type": "\"long\""
        },
        {
         "metadata": "{}",
         "name": "total_day_supply",
         "type": "\"long\""
        },
        {
         "metadata": "{}",
         "name": "years_of_exp",
         "type": "\"long\""
        },
        {
         "metadata": "{}",
         "name": "name",
         "type": "\"long\""
        },
        {
         "metadata": "{}",
         "name": "country_name",
         "type": "\"long\""
        }
       ],
       "type": "table"
      }
     },
     "output_type": "display_data"
    }
   ],
   "source": [
    "# Checking if NULL values exist \n",
    "check_null(df_presc)"
   ]
  },
  {
   "cell_type": "code",
   "execution_count": 0,
   "metadata": {
    "application/vnd.databricks.v1+cell": {
     "cellMetadata": {
      "byteLimit": 2048000,
      "rowLimit": 10000
     },
     "inputWidgets": {},
     "nuid": "b3b92cb1-6b1a-4396-9463-3c0fb1e8be94",
     "showTitle": false,
     "title": ""
    }
   },
   "outputs": [
    {
     "output_type": "display_data",
     "data": {
      "text/html": [
       "<style scoped>\n",
       "  .table-result-container {\n",
       "    max-height: 300px;\n",
       "    overflow: auto;\n",
       "  }\n",
       "  table, th, td {\n",
       "    border: 1px solid black;\n",
       "    border-collapse: collapse;\n",
       "  }\n",
       "  th, td {\n",
       "    padding: 5px;\n",
       "  }\n",
       "  th {\n",
       "    text-align: left;\n",
       "  }\n",
       "</style><div class='table-result-container'><table class='table-result'><thead style='background-color: white'><tr><th>presc_id</th><th>presc_city</th><th>presc_state</th><th>presc_speclty</th><th>tx_cnt</th><th>drug_name</th><th>total_drug_cost</th><th>total_day_supply</th><th>years_of_exp</th><th>name</th><th>country_name</th></tr></thead><tbody><tr><td>2006000252</td><td>CUMBERLAND</td><td>MD</td><td>Internal Medicine</td><td>13</td><td>ATORVASTATIN CALCIUM</td><td>139.32</td><td>450</td><td>45.0</td><td>ARDALAN ENKESHAFI</td><td>USA</td></tr><tr><td>2006000252</td><td>CUMBERLAND</td><td>MD</td><td>Internal Medicine</td><td>11</td><td>CIPROFLOXACIN HCL</td><td>80.99</td><td>96</td><td>43.0</td><td>ARDALAN ENKESHAFI</td><td>USA</td></tr><tr><td>2006000252</td><td>CUMBERLAND</td><td>MD</td><td>Internal Medicine</td><td>20</td><td>DOXYCYCLINE HYCLATE</td><td>586.12</td><td>199</td><td>33.0</td><td>ARDALAN ENKESHAFI</td><td>USA</td></tr></tbody></table></div>"
      ]
     },
     "metadata": {
      "application/vnd.databricks.v1+output": {
       "addedWidgets": {},
       "aggData": [],
       "aggError": "",
       "aggOverflow": false,
       "aggSchema": [],
       "aggSeriesLimitReached": false,
       "aggType": "",
       "arguments": {},
       "columnCustomDisplayInfos": {},
       "data": [
        [
         2006000252,
         "CUMBERLAND",
         "MD",
         "Internal Medicine",
         13,
         "ATORVASTATIN CALCIUM",
         139.32,
         450,
         45.0,
         "ARDALAN ENKESHAFI",
         "USA"
        ],
        [
         2006000252,
         "CUMBERLAND",
         "MD",
         "Internal Medicine",
         11,
         "CIPROFLOXACIN HCL",
         80.99,
         96,
         43.0,
         "ARDALAN ENKESHAFI",
         "USA"
        ],
        [
         2006000252,
         "CUMBERLAND",
         "MD",
         "Internal Medicine",
         20,
         "DOXYCYCLINE HYCLATE",
         586.12,
         199,
         33.0,
         "ARDALAN ENKESHAFI",
         "USA"
        ]
       ],
       "datasetInfos": [],
       "dbfsResultPath": null,
       "isJsonSchema": true,
       "metadata": {},
       "overflow": false,
       "plotOptions": {
        "customPlotOptions": {},
        "displayType": "table",
        "pivotAggregation": null,
        "pivotColumns": null,
        "xColumns": null,
        "yColumns": null
       },
       "removedWidgets": [],
       "schema": [
        {
         "metadata": "{}",
         "name": "presc_id",
         "type": "\"integer\""
        },
        {
         "metadata": "{}",
         "name": "presc_city",
         "type": "\"string\""
        },
        {
         "metadata": "{}",
         "name": "presc_state",
         "type": "\"string\""
        },
        {
         "metadata": "{}",
         "name": "presc_speclty",
         "type": "\"string\""
        },
        {
         "metadata": "{}",
         "name": "tx_cnt",
         "type": "\"integer\""
        },
        {
         "metadata": "{}",
         "name": "drug_name",
         "type": "\"string\""
        },
        {
         "metadata": "{}",
         "name": "total_drug_cost",
         "type": "\"double\""
        },
        {
         "metadata": "{}",
         "name": "total_day_supply",
         "type": "\"integer\""
        },
        {
         "metadata": "{}",
         "name": "years_of_exp",
         "type": "\"double\""
        },
        {
         "metadata": "{}",
         "name": "name",
         "type": "\"string\""
        },
        {
         "metadata": "{}",
         "name": "country_name",
         "type": "\"string\""
        }
       ],
       "type": "table"
      }
     },
     "output_type": "display_data"
    }
   ],
   "source": [
    "# Now, converting year_of_exp col from STR to INT\n",
    "\n",
    "df_presc = df_presc.withColumn('years_of_exp', regexp_replace(col('years_of_exp'), r\"^=\" , \"\" ))\n",
    "\n",
    "df_presc = df_presc.withColumn('years_of_exp' , col('years_of_exp').cast(DoubleType()))\n",
    "\n",
    "display(df_presc.limit(3))\n"
   ]
  },
  {
   "cell_type": "code",
   "execution_count": 0,
   "metadata": {
    "application/vnd.databricks.v1+cell": {
     "cellMetadata": {
      "byteLimit": 2048000,
      "rowLimit": 10000
     },
     "inputWidgets": {},
     "nuid": "9261dca7-01c8-4660-bac3-8a710239f264",
     "showTitle": false,
     "title": ""
    }
   },
   "outputs": [
    {
     "output_type": "stream",
     "name": "stdout",
     "output_type": "stream",
     "text": [
      "51.57326467512733\n"
     ]
    }
   ],
   "source": [
    "# Calculate mean for missing value of col 'tx_cnt'\n",
    "\n",
    "mean_tx = df_presc.select(mean(col('tx_cnt'))).collect()[0][0]\n",
    "print(mean_tx)\n",
    "\n",
    "df_presc = df_presc.fillna(mean_tx , 'tx_cnt')"
   ]
  },
  {
   "cell_type": "code",
   "execution_count": 0,
   "metadata": {
    "application/vnd.databricks.v1+cell": {
     "cellMetadata": {
      "byteLimit": 2048000,
      "rowLimit": 10000
     },
     "inputWidgets": {},
     "nuid": "b6b96bcb-fc7a-4108-9f13-960d7cc19d17",
     "showTitle": false,
     "title": ""
    }
   },
   "outputs": [
    {
     "output_type": "display_data",
     "data": {
      "text/html": [
       "<style scoped>\n",
       "  .table-result-container {\n",
       "    max-height: 300px;\n",
       "    overflow: auto;\n",
       "  }\n",
       "  table, th, td {\n",
       "    border: 1px solid black;\n",
       "    border-collapse: collapse;\n",
       "  }\n",
       "  th, td {\n",
       "    padding: 5px;\n",
       "  }\n",
       "  th {\n",
       "    text-align: left;\n",
       "  }\n",
       "</style><div class='table-result-container'><table class='table-result'><thead style='background-color: white'><tr><th>presc_id</th><th>presc_city</th><th>presc_state</th><th>presc_speclty</th><th>tx_cnt</th><th>drug_name</th><th>total_drug_cost</th><th>total_day_supply</th><th>years_of_exp</th><th>name</th><th>country_name</th></tr></thead><tbody><tr><td>0</td><td>0</td><td>0</td><td>0</td><td>0</td><td>0</td><td>0</td><td>0</td><td>0</td><td>0</td><td>0</td></tr></tbody></table></div>"
      ]
     },
     "metadata": {
      "application/vnd.databricks.v1+output": {
       "addedWidgets": {},
       "aggData": [],
       "aggError": "",
       "aggOverflow": false,
       "aggSchema": [],
       "aggSeriesLimitReached": false,
       "aggType": "",
       "arguments": {},
       "columnCustomDisplayInfos": {},
       "data": [
        [
         0,
         0,
         0,
         0,
         0,
         0,
         0,
         0,
         0,
         0,
         0
        ]
       ],
       "datasetInfos": [],
       "dbfsResultPath": null,
       "isJsonSchema": true,
       "metadata": {},
       "overflow": false,
       "plotOptions": {
        "customPlotOptions": {},
        "displayType": "table",
        "pivotAggregation": null,
        "pivotColumns": null,
        "xColumns": null,
        "yColumns": null
       },
       "removedWidgets": [],
       "schema": [
        {
         "metadata": "{}",
         "name": "presc_id",
         "type": "\"long\""
        },
        {
         "metadata": "{}",
         "name": "presc_city",
         "type": "\"long\""
        },
        {
         "metadata": "{}",
         "name": "presc_state",
         "type": "\"long\""
        },
        {
         "metadata": "{}",
         "name": "presc_speclty",
         "type": "\"long\""
        },
        {
         "metadata": "{}",
         "name": "tx_cnt",
         "type": "\"long\""
        },
        {
         "metadata": "{}",
         "name": "drug_name",
         "type": "\"long\""
        },
        {
         "metadata": "{}",
         "name": "total_drug_cost",
         "type": "\"long\""
        },
        {
         "metadata": "{}",
         "name": "total_day_supply",
         "type": "\"long\""
        },
        {
         "metadata": "{}",
         "name": "years_of_exp",
         "type": "\"long\""
        },
        {
         "metadata": "{}",
         "name": "name",
         "type": "\"long\""
        },
        {
         "metadata": "{}",
         "name": "country_name",
         "type": "\"long\""
        }
       ],
       "type": "table"
      }
     },
     "output_type": "display_data"
    }
   ],
   "source": [
    "check_null(df_presc)\n"
   ]
  },
  {
   "cell_type": "code",
   "execution_count": 0,
   "metadata": {
    "application/vnd.databricks.v1+cell": {
     "cellMetadata": {
      "byteLimit": 2048000,
      "rowLimit": 10000
     },
     "inputWidgets": {},
     "nuid": "9c8dd60c-1bcc-4e08-b5f5-f9e7917969a0",
     "showTitle": false,
     "title": ""
    }
   },
   "outputs": [],
   "source": [
    "#  Create udf(User Define Function) \n",
    "\n",
    "from pyspark.sql.functions import *\n",
    "from pyspark.sql.types import *\n",
    "\n",
    "@udf(returnType = IntegerType())\n",
    "\n",
    "def record_len(column):\n",
    "    splitcol = column.split(' ')\n",
    "    return len(splitcol)"
   ]
  },
  {
   "cell_type": "code",
   "execution_count": 0,
   "metadata": {
    "application/vnd.databricks.v1+cell": {
     "cellMetadata": {
      "byteLimit": 2048000,
      "rowLimit": 10000
     },
     "inputWidgets": {},
     "nuid": "1e62204b-44f6-471c-b12a-99dd6e3f904c",
     "showTitle": false,
     "title": ""
    }
   },
   "outputs": [
    {
     "output_type": "display_data",
     "data": {
      "text/html": [
       "<style scoped>\n",
       "  .table-result-container {\n",
       "    max-height: 300px;\n",
       "    overflow: auto;\n",
       "  }\n",
       "  table, th, td {\n",
       "    border: 1px solid black;\n",
       "    border-collapse: collapse;\n",
       "  }\n",
       "  th, td {\n",
       "    padding: 5px;\n",
       "  }\n",
       "  th {\n",
       "    text-align: left;\n",
       "  }\n",
       "</style><div class='table-result-container'><table class='table-result'><thead style='background-color: white'><tr><th>zip_count</th></tr></thead><tbody><tr><td>310</td></tr><tr><td>196</td></tr><tr><td>84</td></tr><tr><td>30</td></tr><tr><td>107</td></tr><tr><td>86</td></tr></tbody></table></div>"
      ]
     },
     "metadata": {
      "application/vnd.databricks.v1+output": {
       "addedWidgets": {},
       "aggData": [],
       "aggError": "",
       "aggOverflow": false,
       "aggSchema": [],
       "aggSeriesLimitReached": false,
       "aggType": "",
       "arguments": {},
       "columnCustomDisplayInfos": {},
       "data": [
        [
         310
        ],
        [
         196
        ],
        [
         84
        ],
        [
         30
        ],
        [
         107
        ],
        [
         86
        ]
       ],
       "datasetInfos": [],
       "dbfsResultPath": null,
       "isJsonSchema": true,
       "metadata": {},
       "overflow": false,
       "plotOptions": {
        "customPlotOptions": {},
        "displayType": "table",
        "pivotAggregation": null,
        "pivotColumns": null,
        "xColumns": null,
        "yColumns": null
       },
       "removedWidgets": [],
       "schema": [
        {
         "metadata": "{}",
         "name": "zip_count",
         "type": "\"integer\""
        }
       ],
       "type": "table"
      }
     },
     "output_type": "display_data"
    }
   ],
   "source": [
    "df_city_zip = df_city.withColumn('zip_count' , record_len('zips'))\n",
    "display(df_city_zip.select('zip_count').limit(6))"
   ]
  },
  {
   "cell_type": "code",
   "execution_count": 0,
   "metadata": {
    "application/vnd.databricks.v1+cell": {
     "cellMetadata": {
      "byteLimit": 2048000,
      "rowLimit": 10000
     },
     "inputWidgets": {},
     "nuid": "ed5baad2-de7d-428a-9218-43ce8d32bed7",
     "showTitle": false,
     "title": ""
    }
   },
   "outputs": [
    {
     "output_type": "display_data",
     "data": {
      "text/html": [
       "<style scoped>\n",
       "  .table-result-container {\n",
       "    max-height: 300px;\n",
       "    overflow: auto;\n",
       "  }\n",
       "  table, th, td {\n",
       "    border: 1px solid black;\n",
       "    border-collapse: collapse;\n",
       "  }\n",
       "  th, td {\n",
       "    padding: 5px;\n",
       "  }\n",
       "  th {\n",
       "    text-align: left;\n",
       "  }\n",
       "</style><div class='table-result-container'><table class='table-result'><thead style='background-color: white'><tr><th>presc_id</th><th>presc_city</th><th>presc_state</th><th>presc_speclty</th><th>tx_cnt</th><th>drug_name</th><th>total_drug_cost</th><th>total_day_supply</th><th>years_of_exp</th><th>name</th><th>country_name</th><th>city</th><th>state_id</th><th>state_name</th><th>county_name</th><th>population</th><th>timezone</th><th>zips</th><th>zip_count</th></tr></thead><tbody><tr><td>2006000252</td><td>CUMBERLAND</td><td>MD</td><td>Internal Medicine</td><td>13</td><td>ATORVASTATIN CALCIUM</td><td>139.32</td><td>450</td><td>45.0</td><td>ARDALAN ENKESHAFI</td><td>USA</td><td>CUMBERLAND</td><td>MD</td><td>MARYLAND</td><td>ALLEGANY</td><td>47980</td><td>America/New_York</td><td>21502 21501 21503 21504 21505</td><td>5</td></tr><tr><td>2006000252</td><td>CUMBERLAND</td><td>MD</td><td>Internal Medicine</td><td>11</td><td>CIPROFLOXACIN HCL</td><td>80.99</td><td>96</td><td>43.0</td><td>ARDALAN ENKESHAFI</td><td>USA</td><td>CUMBERLAND</td><td>MD</td><td>MARYLAND</td><td>ALLEGANY</td><td>47980</td><td>America/New_York</td><td>21502 21501 21503 21504 21505</td><td>5</td></tr><tr><td>2006000252</td><td>CUMBERLAND</td><td>MD</td><td>Internal Medicine</td><td>20</td><td>DOXYCYCLINE HYCLATE</td><td>586.12</td><td>199</td><td>33.0</td><td>ARDALAN ENKESHAFI</td><td>USA</td><td>CUMBERLAND</td><td>MD</td><td>MARYLAND</td><td>ALLEGANY</td><td>47980</td><td>America/New_York</td><td>21502 21501 21503 21504 21505</td><td>5</td></tr><tr><td>2006000252</td><td>CUMBERLAND</td><td>MD</td><td>Internal Medicine</td><td>17</td><td>ELIQUIS</td><td>6065.02</td><td>510</td><td>44.0</td><td>ARDALAN ENKESHAFI</td><td>USA</td><td>CUMBERLAND</td><td>MD</td><td>MARYLAND</td><td>ALLEGANY</td><td>47980</td><td>America/New_York</td><td>21502 21501 21503 21504 21505</td><td>5</td></tr><tr><td>2006000252</td><td>CUMBERLAND</td><td>MD</td><td>Internal Medicine</td><td>17</td><td>FUROSEMIDE</td><td>45.76</td><td>405</td><td>55.0</td><td>ARDALAN ENKESHAFI</td><td>USA</td><td>CUMBERLAND</td><td>MD</td><td>MARYLAND</td><td>ALLEGANY</td><td>47980</td><td>America/New_York</td><td>21502 21501 21503 21504 21505</td><td>5</td></tr><tr><td>2006000252</td><td>CUMBERLAND</td><td>MD</td><td>Internal Medicine</td><td>16</td><td>HYDRALAZINE HCL</td><td>169.48</td><td>420</td><td>36.0</td><td>ARDALAN ENKESHAFI</td><td>USA</td><td>CUMBERLAND</td><td>MD</td><td>MARYLAND</td><td>ALLEGANY</td><td>47980</td><td>America/New_York</td><td>21502 21501 21503 21504 21505</td><td>5</td></tr></tbody></table></div>"
      ]
     },
     "metadata": {
      "application/vnd.databricks.v1+output": {
       "addedWidgets": {},
       "aggData": [],
       "aggError": "",
       "aggOverflow": false,
       "aggSchema": [],
       "aggSeriesLimitReached": false,
       "aggType": "",
       "arguments": {},
       "columnCustomDisplayInfos": {},
       "data": [
        [
         2006000252,
         "CUMBERLAND",
         "MD",
         "Internal Medicine",
         13,
         "ATORVASTATIN CALCIUM",
         139.32,
         450,
         45.0,
         "ARDALAN ENKESHAFI",
         "USA",
         "CUMBERLAND",
         "MD",
         "MARYLAND",
         "ALLEGANY",
         47980,
         "America/New_York",
         "21502 21501 21503 21504 21505",
         5
        ],
        [
         2006000252,
         "CUMBERLAND",
         "MD",
         "Internal Medicine",
         11,
         "CIPROFLOXACIN HCL",
         80.99,
         96,
         43.0,
         "ARDALAN ENKESHAFI",
         "USA",
         "CUMBERLAND",
         "MD",
         "MARYLAND",
         "ALLEGANY",
         47980,
         "America/New_York",
         "21502 21501 21503 21504 21505",
         5
        ],
        [
         2006000252,
         "CUMBERLAND",
         "MD",
         "Internal Medicine",
         20,
         "DOXYCYCLINE HYCLATE",
         586.12,
         199,
         33.0,
         "ARDALAN ENKESHAFI",
         "USA",
         "CUMBERLAND",
         "MD",
         "MARYLAND",
         "ALLEGANY",
         47980,
         "America/New_York",
         "21502 21501 21503 21504 21505",
         5
        ],
        [
         2006000252,
         "CUMBERLAND",
         "MD",
         "Internal Medicine",
         17,
         "ELIQUIS",
         6065.02,
         510,
         44.0,
         "ARDALAN ENKESHAFI",
         "USA",
         "CUMBERLAND",
         "MD",
         "MARYLAND",
         "ALLEGANY",
         47980,
         "America/New_York",
         "21502 21501 21503 21504 21505",
         5
        ],
        [
         2006000252,
         "CUMBERLAND",
         "MD",
         "Internal Medicine",
         17,
         "FUROSEMIDE",
         45.76,
         405,
         55.0,
         "ARDALAN ENKESHAFI",
         "USA",
         "CUMBERLAND",
         "MD",
         "MARYLAND",
         "ALLEGANY",
         47980,
         "America/New_York",
         "21502 21501 21503 21504 21505",
         5
        ],
        [
         2006000252,
         "CUMBERLAND",
         "MD",
         "Internal Medicine",
         16,
         "HYDRALAZINE HCL",
         169.48,
         420,
         36.0,
         "ARDALAN ENKESHAFI",
         "USA",
         "CUMBERLAND",
         "MD",
         "MARYLAND",
         "ALLEGANY",
         47980,
         "America/New_York",
         "21502 21501 21503 21504 21505",
         5
        ]
       ],
       "datasetInfos": [],
       "dbfsResultPath": null,
       "isJsonSchema": true,
       "metadata": {},
       "overflow": false,
       "plotOptions": {
        "customPlotOptions": {},
        "displayType": "table",
        "pivotAggregation": null,
        "pivotColumns": null,
        "xColumns": null,
        "yColumns": null
       },
       "removedWidgets": [],
       "schema": [
        {
         "metadata": "{}",
         "name": "presc_id",
         "type": "\"integer\""
        },
        {
         "metadata": "{}",
         "name": "presc_city",
         "type": "\"string\""
        },
        {
         "metadata": "{}",
         "name": "presc_state",
         "type": "\"string\""
        },
        {
         "metadata": "{}",
         "name": "presc_speclty",
         "type": "\"string\""
        },
        {
         "metadata": "{}",
         "name": "tx_cnt",
         "type": "\"integer\""
        },
        {
         "metadata": "{}",
         "name": "drug_name",
         "type": "\"string\""
        },
        {
         "metadata": "{}",
         "name": "total_drug_cost",
         "type": "\"double\""
        },
        {
         "metadata": "{}",
         "name": "total_day_supply",
         "type": "\"integer\""
        },
        {
         "metadata": "{}",
         "name": "years_of_exp",
         "type": "\"double\""
        },
        {
         "metadata": "{}",
         "name": "name",
         "type": "\"string\""
        },
        {
         "metadata": "{}",
         "name": "country_name",
         "type": "\"string\""
        },
        {
         "metadata": "{}",
         "name": "city",
         "type": "\"string\""
        },
        {
         "metadata": "{}",
         "name": "state_id",
         "type": "\"string\""
        },
        {
         "metadata": "{}",
         "name": "state_name",
         "type": "\"string\""
        },
        {
         "metadata": "{}",
         "name": "county_name",
         "type": "\"string\""
        },
        {
         "metadata": "{}",
         "name": "population",
         "type": "\"integer\""
        },
        {
         "metadata": "{}",
         "name": "timezone",
         "type": "\"string\""
        },
        {
         "metadata": "{}",
         "name": "zips",
         "type": "\"string\""
        },
        {
         "metadata": "{}",
         "name": "zip_count",
         "type": "\"integer\""
        }
       ],
       "type": "table"
      }
     },
     "output_type": "display_data"
    }
   ],
   "source": [
    "# Joining two dataset \n",
    "df_join = df_presc.join(\n",
    "    df_city_zip , \n",
    "    (df_presc.presc_city == df_city_zip.city)&(df_presc.presc_state == df_city_zip.state_id) ,\n",
    "    how='inner'\n",
    "    )\n",
    "display(df_join.limit(6))       "
   ]
  },
  {
   "cell_type": "code",
   "execution_count": 0,
   "metadata": {
    "application/vnd.databricks.v1+cell": {
     "cellMetadata": {
      "byteLimit": 2048000,
      "rowLimit": 10000
     },
     "inputWidgets": {},
     "nuid": "7a8db36e-69a3-4b2e-871a-b42cc8a42016",
     "showTitle": false,
     "title": ""
    }
   },
   "outputs": [],
   "source": []
  }
 ],
 "metadata": {
  "application/vnd.databricks.v1+notebook": {
   "dashboards": [],
   "environmentMetadata": null,
   "language": "python",
   "notebookMetadata": {
    "pythonIndentUnit": 4
   },
   "notebookName": "Medicare_Dataset",
   "widgets": {}
  }
 },
 "nbformat": 4,
 "nbformat_minor": 0
}
